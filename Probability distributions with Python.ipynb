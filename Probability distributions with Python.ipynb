{
 "cells": [
  {
   "cell_type": "markdown",
   "id": "f20c8926",
   "metadata": {},
   "source": [
    "# Probability distributions with Python"
   ]
  },
  {
   "cell_type": "markdown",
   "id": "2af73bc0",
   "metadata": {
    "toc": true
   },
   "source": [
    "<h1>Table of Contents<span class=\"tocSkip\"></span></h1>\n",
    "<div class=\"toc\"><ul class=\"toc-item\"><li><span><a href=\"#Introduction\" data-toc-modified-id=\"Introduction-1\"><span class=\"toc-item-num\">1&nbsp;&nbsp;</span>Introduction</a></span><ul class=\"toc-item\"><li><span><a href=\"#Random-variables\" data-toc-modified-id=\"Random-variables-1.1\"><span class=\"toc-item-num\">1.1&nbsp;&nbsp;</span>Random variables</a></span><ul class=\"toc-item\"><li><span><a href=\"#Bernoulli-random-variables\" data-toc-modified-id=\"Bernoulli-random-variables-1.1.1\"><span class=\"toc-item-num\">1.1.1&nbsp;&nbsp;</span>Bernoulli random variables</a></span></li><li><span><a href=\"#Tossing-a-dice\" data-toc-modified-id=\"Tossing-a-dice-1.1.2\"><span class=\"toc-item-num\">1.1.2&nbsp;&nbsp;</span>Tossing a dice</a></span></li><li><span><a href=\"#Poisson-random-variables\" data-toc-modified-id=\"Poisson-random-variables-1.1.3\"><span class=\"toc-item-num\">1.1.3&nbsp;&nbsp;</span>Poisson random variables</a></span></li><li><span><a href=\"#Life-time-random-variables\" data-toc-modified-id=\"Life-time-random-variables-1.1.4\"><span class=\"toc-item-num\">1.1.4&nbsp;&nbsp;</span>Life time random variables</a></span></li></ul></li><li><span><a href=\"#What-should-we-know-on-a-random-variable?\" data-toc-modified-id=\"What-should-we-know-on-a-random-variable?-1.2\"><span class=\"toc-item-num\">1.2&nbsp;&nbsp;</span>What should we know on a random variable?</a></span></li><li><span><a href=\"#Probability-distributions-with-Python\" data-toc-modified-id=\"Probability-distributions-with-Python-1.3\"><span class=\"toc-item-num\">1.3&nbsp;&nbsp;</span>Probability distributions with Python</a></span><ul class=\"toc-item\"><li><span><a href=\"#Bernoulli-distribution\" data-toc-modified-id=\"Bernoulli-distribution-1.3.1\"><span class=\"toc-item-num\">1.3.1&nbsp;&nbsp;</span>Bernoulli distribution</a></span></li><li><span><a href=\"#Poisson-distribution\" data-toc-modified-id=\"Poisson-distribution-1.3.2\"><span class=\"toc-item-num\">1.3.2&nbsp;&nbsp;</span>Poisson distribution</a></span></li><li><span><a href=\"#Normal-distribution\" data-toc-modified-id=\"Normal-distribution-1.3.3\"><span class=\"toc-item-num\">1.3.3&nbsp;&nbsp;</span>Normal distribution</a></span></li><li><span><a href=\"#Exponential-distribution\" data-toc-modified-id=\"Exponential-distribution-1.3.4\"><span class=\"toc-item-num\">1.3.4&nbsp;&nbsp;</span>Exponential distribution</a></span></li></ul></li></ul></li></ul></div>"
   ]
  },
  {
   "cell_type": "markdown",
   "id": "271231ae",
   "metadata": {},
   "source": [
    "## Introduction"
   ]
  },
  {
   "cell_type": "markdown",
   "id": "0febc7cb",
   "metadata": {},
   "source": [
    "For any random experience, we try to define a numerical application that represents the outcomes of the experience. For example, when we flip a coin. The outcomes are either *head* or *tail*, and we will then define an application $X$ with values $\\{0,1\\}$, where $X=0$ if we obtain *tail* and $X=1$ if we obtain *head*. "
   ]
  },
  {
   "cell_type": "markdown",
   "id": "14a47a2b",
   "metadata": {},
   "source": [
    " Such an  application $X$ will be then called a numerical random variable. "
   ]
  },
  {
   "cell_type": "markdown",
   "id": "88745f25",
   "metadata": {},
   "source": [
    "**Definition** A random variable $X$ is an application from a set $\\Omega$, the outcomes of the random experience and a subset of real numbers:\n",
    "$$X\\,:\\,\\Omega \\longrightarrow   \\mathbb{R}\\;\\;\\; \\omega    \\longmapsto  X(\\omega)\\in \\mathbb{R}$$\n",
    " "
   ]
  },
  {
   "cell_type": "markdown",
   "id": "dc6cc7c6",
   "metadata": {},
   "source": [
    "There are two types of random variables:\n",
    "\n",
    " + *Discrete* random variables where the possible values of $X$ is a discrete subset of $\\mathbb{R}$\n",
    " + *Continuous* random variables where the possible values of $X$ falls in a subinterval of $\\mathbb{R}$"
   ]
  },
  {
   "cell_type": "markdown",
   "id": "fd28879c",
   "metadata": {},
   "source": [
    "### Random variables \n",
    "\n",
    "#### Bernoulli random variables \n",
    "\n",
    " We flip a coin and the outcomes are either head or tail, The values of $X$ are either $0$ or $1$. $X$ will be called a Bernoulli random variable. We will be interested to the probability to observe *head*, $\\mathbb{P}(X=1)$, and the probability to observe *tail*, $\\mathbb{P}(X=0)$.   "
   ]
  },
  {
   "cell_type": "markdown",
   "id": "d0be67ff",
   "metadata": {},
   "source": [
    "\n",
    "\n",
    "+ $\\mathbb{P}(X=0)$ and $\\mathbb{P}(X=1)$ belong to $[0,1]$\n",
    "+ $\\mathbb{P}(X=0)+\\mathbb{P}(X=1)=1$\n",
    "+ Since the values of $X$ are in the set $\\{0,1\\}$, then $X$ is a discrete variable"
   ]
  },
  {
   "cell_type": "markdown",
   "id": "3791827e",
   "metadata": {},
   "source": [
    "If we assume $p=\\mathbb{P}(X=1)$, we will say that $X$ is a Bernoulli random variable with parameter $p$"
   ]
  },
  {
   "cell_type": "markdown",
   "id": "e93fb9c8",
   "metadata": {},
   "source": [
    "#### Tossing a dice "
   ]
  },
  {
   "cell_type": "markdown",
   "id": "9bd64575",
   "metadata": {},
   "source": [
    "When we toss a dice the outcomes are the numbers : 1,2,3,4,5,6. We can then define a random variable $X$ with values in $\\{1,2,\\ldots,6\\}$ where we will be interested to the probabilities: \n",
    "$$\\mathbb{P}(X=i)=p_i,\\;\\;\\forall \\,i=1,\\ldots,6$$"
   ]
  },
  {
   "cell_type": "markdown",
   "id": "3262b925",
   "metadata": {},
   "source": [
    "+ $\\forall$ $i=1,\\ldots,6$, $p_i\\in [0,1]$\n",
    "+ $\\sum_{i=1}^6 p_i=1$\n",
    "+ $X$ is a discrete random variable\n",
    "+ When $\\forall$ $i=1,\\ldots,6$, $p_i=1/6$, $X$ will be called a uniform discrete random variable in $\\{1,\\ldots,6\\}$"
   ]
  },
  {
   "cell_type": "markdown",
   "id": "bd3c151b",
   "metadata": {},
   "source": [
    "#### Poisson random variables "
   ]
  },
  {
   "cell_type": "markdown",
   "id": "e39d4400",
   "metadata": {},
   "source": [
    "Assume that we are interested in the number of customers arriving in a store during one hour. Let's denote by $X$ this number. It's a random number, and it can be any number belonging to the set of integers $\\mathbb{N}$. "
   ]
  },
  {
   "cell_type": "markdown",
   "id": "a625f660",
   "metadata": {},
   "source": [
    "$X$ is then a discrete random variables with values in $\\mathbb{N}$. Some scientists have proved that we can find a positive constant $\\lambda>0$ such that for all $n\\in \\mathbb{N}$, we have \n",
    "$$\\mathbb{P}(X=n)=e^{-\\lambda} \\displaystyle\\frac{\\lambda^n}{n!}$$"
   ]
  },
  {
   "cell_type": "markdown",
   "id": "bb4013d2",
   "metadata": {},
   "source": [
    "#### Life time random variables "
   ]
  },
  {
   "cell_type": "markdown",
   "id": "ae302dd1",
   "metadata": {},
   "source": [
    "In this example, we're interested in the lifetime of electronic components. A positive random variable $ X$ can represent this random experience, where the event $\\{X>t\\}$, for any positive $t$, means that the electronic component is working after the time $t$. Event $\\{X<t\\}$ means that the electronic component stopped working before the instant $t$.  "
   ]
  },
  {
   "cell_type": "markdown",
   "id": "cde9ad07",
   "metadata": {},
   "source": [
    "The random variable $X$ is then a continuous random variable and we will be interested to compute for any positive numbers $a<b$, the following probability:\n",
    "$$\\mathbb{P}(a<X<b)$$"
   ]
  },
  {
   "cell_type": "markdown",
   "id": "3f814229",
   "metadata": {},
   "source": [
    "Some scientist proved that we can find a positive constant $\\lambda>0$ such that for all $a<b$: \n",
    "$$\\mathbb{P}(a<X<b)=\\displaystyle\\int_a^b \\lambda e^{-\\lambda x}dx$$"
   ]
  },
  {
   "cell_type": "markdown",
   "id": "b6f340be",
   "metadata": {},
   "source": [
    "### What should we know on a random variable?"
   ]
  },
  {
   "cell_type": "markdown",
   "id": "094966bb",
   "metadata": {},
   "source": [
    "Any random variable is characterized by its **probability distribution** that can be described by the **cumulative distribution function** (CDF) $F_X$: \n",
    "$$\\begin{array}{lll}\n",
    "F_X & : & \\mathbb{R} \\longrightarrow [0,1] \\\\\n",
    "    &   &  t\\longmapsto F_X(t)=\\mathbb{P}(X\\leq t)\n",
    "    \\end{array}$$"
   ]
  },
  {
   "cell_type": "markdown",
   "id": "4021cd38",
   "metadata": {},
   "source": [
    "+ $F_X$ is an increasing function\n",
    "+ $\\lim_{t\\rightarrow -\\infty} F_X(t)=0$\n",
    "+ $\\lim_{t\\rightarrow +\\infty} F_X(t)=1$\n",
    "+ $F_X$ is a scale function when $X$ is a discrete random variable.\n",
    "+ $F_X$ is of $C^1-$class (continous and admit a first order derivative) when $X$ is a continuous random variable."
   ]
  },
  {
   "cell_type": "markdown",
   "id": "910989df",
   "metadata": {},
   "source": [
    "If $X$ is a discrete we define from $F_X$ the probability function: \n",
    "    $$\\forall\\, x\\;\\; f_X(t)=F_X(t)-\\lim_{x\\rightarrow t, x<t} F_X(x)=\\mathbb{P}(X\\leq t)-\\mathbb{P}(X<t)$$"
   ]
  },
  {
   "cell_type": "markdown",
   "id": "ce37423e",
   "metadata": {},
   "source": [
    "If $X$ is a continuous random variable we can define from $F_X$ the density probability function (pdf) $f_X$. It's the derivative of $F_X$: $f_X=F_X'$. "
   ]
  },
  {
   "cell_type": "markdown",
   "id": "461a0e52",
   "metadata": {},
   "source": [
    "The density probability function can be used to derive the probability that $X$ falls in an iterval $(a,b)$: \n",
    "$$\\mathbb{P}(X\\in (a,b))=\\mathbb{P}(a<X<b)=\\displaystyle\\int_a^b f_X(t)dt$$"
   ]
  },
  {
   "cell_type": "markdown",
   "id": "89adc88e",
   "metadata": {},
   "source": [
    "A random variable is fully determined if we know either the CDF or PDF. We will also to write codes that imitate the random experience that provides us the outcomes of $X$. We call this process simulating the random variable. "
   ]
  },
  {
   "cell_type": "markdown",
   "id": "fa618e30",
   "metadata": {},
   "source": [
    "We will see now with the library *scipy* Python functions that will help us to compute the CDF, the PDF, and to simulate numbers from the probabilty distribution of the random variable. "
   ]
  },
  {
   "cell_type": "markdown",
   "id": "3b6fbf3a",
   "metadata": {},
   "source": [
    "### Probability distributions with Python"
   ]
  },
  {
   "cell_type": "markdown",
   "id": "985dcaf1",
   "metadata": {},
   "source": [
    "We should first installing SciPy"
   ]
  },
  {
   "cell_type": "code",
   "execution_count": 1,
   "id": "a6f533a6",
   "metadata": {},
   "outputs": [
    {
     "name": "stdout",
     "output_type": "stream",
     "text": [
      "Requirement already satisfied: scipy in c:\\programdata\\anaconda3\\lib\\site-packages (1.7.1)\n",
      "Requirement already satisfied: numpy<1.23.0,>=1.16.5 in c:\\programdata\\anaconda3\\lib\\site-packages (from scipy) (1.20.3)\n"
     ]
    }
   ],
   "source": [
    "!pip install scipy"
   ]
  },
  {
   "cell_type": "markdown",
   "id": "415cf7b4",
   "metadata": {},
   "source": [
    "SciPy is a free and open source library for scientific computing that is built on top of NumPy.  We have already seen that NumPy has the capability of drawing samples from many common distributions (type `help(np.random)` in the python interpreter), but SciPy has the added capability of computing the probability of observing events, and it can perform computations directly on the probability mass/density functions."
   ]
  },
  {
   "cell_type": "code",
   "execution_count": 2,
   "id": "53da91eb",
   "metadata": {},
   "outputs": [],
   "source": [
    "import numpy as np"
   ]
  },
  {
   "cell_type": "markdown",
   "id": "d827a123",
   "metadata": {},
   "source": [
    "#### Bernoulli distribution"
   ]
  },
  {
   "cell_type": "code",
   "execution_count": 3,
   "id": "e4da32fb",
   "metadata": {},
   "outputs": [],
   "source": [
    "from scipy import stats"
   ]
  },
  {
   "cell_type": "markdown",
   "id": "8a083521",
   "metadata": {},
   "source": [
    "We define the Bernoulli random variable "
   ]
  },
  {
   "cell_type": "code",
   "execution_count": 4,
   "id": "54566c56",
   "metadata": {},
   "outputs": [],
   "source": [
    "X= stats.bernoulli(.3)"
   ]
  },
  {
   "cell_type": "markdown",
   "id": "74205741",
   "metadata": {},
   "source": [
    "The Probability function "
   ]
  },
  {
   "cell_type": "markdown",
   "id": "1ff417f5",
   "metadata": {},
   "source": [
    "$\\mathbb{P}(X=1)$"
   ]
  },
  {
   "cell_type": "code",
   "execution_count": 5,
   "id": "d01506e9",
   "metadata": {},
   "outputs": [
    {
     "data": {
      "text/plain": [
       "0.3"
      ]
     },
     "execution_count": 5,
     "metadata": {},
     "output_type": "execute_result"
    }
   ],
   "source": [
    "X.pmf(1)"
   ]
  },
  {
   "cell_type": "markdown",
   "id": "65744922",
   "metadata": {},
   "source": [
    "$\\mathbb{P}(X=0)$"
   ]
  },
  {
   "cell_type": "code",
   "execution_count": 6,
   "id": "6e034dc3",
   "metadata": {},
   "outputs": [
    {
     "data": {
      "text/plain": [
       "0.7"
      ]
     },
     "execution_count": 6,
     "metadata": {},
     "output_type": "execute_result"
    }
   ],
   "source": [
    "X.pmf(0)"
   ]
  },
  {
   "cell_type": "markdown",
   "id": "aa59ed19",
   "metadata": {},
   "source": [
    "For any $x\\not \\in \\{0,1\\}$, $\\mathbb{P}(X=x)=0$"
   ]
  },
  {
   "cell_type": "code",
   "execution_count": 7,
   "id": "51fdd282",
   "metadata": {},
   "outputs": [
    {
     "data": {
      "text/plain": [
       "0.0"
      ]
     },
     "execution_count": 7,
     "metadata": {},
     "output_type": "execute_result"
    }
   ],
   "source": [
    "X.pmf(4)"
   ]
  },
  {
   "cell_type": "code",
   "execution_count": 8,
   "id": "a1772e59",
   "metadata": {},
   "outputs": [
    {
     "data": {
      "text/plain": [
       "0.0"
      ]
     },
     "execution_count": 8,
     "metadata": {},
     "output_type": "execute_result"
    }
   ],
   "source": [
    "X.pmf(-2)"
   ]
  },
  {
   "cell_type": "markdown",
   "id": "c3d3ada3",
   "metadata": {},
   "source": [
    "The cumulative distribution function $F_X(x)=\\mathbb{P}(X\\leq x)$"
   ]
  },
  {
   "cell_type": "code",
   "execution_count": 9,
   "id": "3b22ed64",
   "metadata": {},
   "outputs": [
    {
     "data": {
      "text/plain": [
       "0.0"
      ]
     },
     "execution_count": 9,
     "metadata": {},
     "output_type": "execute_result"
    }
   ],
   "source": [
    "X.cdf(-1)"
   ]
  },
  {
   "cell_type": "code",
   "execution_count": 10,
   "id": "57566721",
   "metadata": {},
   "outputs": [
    {
     "data": {
      "text/plain": [
       "0.7"
      ]
     },
     "execution_count": 10,
     "metadata": {},
     "output_type": "execute_result"
    }
   ],
   "source": [
    "X.cdf(0)"
   ]
  },
  {
   "cell_type": "code",
   "execution_count": 11,
   "id": "be7e2982",
   "metadata": {},
   "outputs": [
    {
     "data": {
      "text/plain": [
       "0.7"
      ]
     },
     "execution_count": 11,
     "metadata": {},
     "output_type": "execute_result"
    }
   ],
   "source": [
    "X.cdf(0.2)"
   ]
  },
  {
   "cell_type": "code",
   "execution_count": 12,
   "id": "ebefd50e",
   "metadata": {},
   "outputs": [
    {
     "data": {
      "text/plain": [
       "1.0"
      ]
     },
     "execution_count": 12,
     "metadata": {},
     "output_type": "execute_result"
    }
   ],
   "source": [
    "X.cdf(1)"
   ]
  },
  {
   "cell_type": "code",
   "execution_count": 13,
   "id": "fe68b45e",
   "metadata": {},
   "outputs": [
    {
     "data": {
      "text/plain": [
       "1.0"
      ]
     },
     "execution_count": 13,
     "metadata": {},
     "output_type": "execute_result"
    }
   ],
   "source": [
    "X.cdf(10)"
   ]
  },
  {
   "cell_type": "markdown",
   "id": "51ed64cd",
   "metadata": {},
   "source": [
    "Let's draw the CDF of a Bernoulli random variable. We will first generate random number in $\\mathbb{R}$. "
   ]
  },
  {
   "cell_type": "code",
   "execution_count": 14,
   "id": "6cf61dc6",
   "metadata": {},
   "outputs": [],
   "source": [
    "import numpy as np"
   ]
  },
  {
   "cell_type": "code",
   "execution_count": 15,
   "id": "399803f1",
   "metadata": {},
   "outputs": [],
   "source": [
    "data = np.random.random(1000)"
   ]
  },
  {
   "cell_type": "code",
   "execution_count": 16,
   "id": "b495e742",
   "metadata": {},
   "outputs": [
    {
     "data": {
      "text/plain": [
       "array([0.79453878, 0.8955426 , 0.5836414 , 0.06942221, 0.68967233,\n",
       "       0.83073946, 0.55541818, 0.33966272, 0.31812872])"
      ]
     },
     "execution_count": 16,
     "metadata": {},
     "output_type": "execute_result"
    }
   ],
   "source": [
    "data[1:10]"
   ]
  },
  {
   "cell_type": "code",
   "execution_count": 17,
   "id": "491981a0",
   "metadata": {},
   "outputs": [
    {
     "data": {
      "text/plain": [
       "0.0003375444410724793"
      ]
     },
     "execution_count": 17,
     "metadata": {},
     "output_type": "execute_result"
    }
   ],
   "source": [
    "data.min()"
   ]
  },
  {
   "cell_type": "code",
   "execution_count": 18,
   "id": "287536c1",
   "metadata": {},
   "outputs": [
    {
     "data": {
      "text/plain": [
       "0.9999001234000999"
      ]
     },
     "execution_count": 18,
     "metadata": {},
     "output_type": "execute_result"
    }
   ],
   "source": [
    "data.max()"
   ]
  },
  {
   "cell_type": "code",
   "execution_count": 19,
   "id": "08ec2261",
   "metadata": {},
   "outputs": [],
   "source": [
    "data=-3*(2*data-1)"
   ]
  },
  {
   "cell_type": "code",
   "execution_count": 20,
   "id": "99c99ba3",
   "metadata": {},
   "outputs": [
    {
     "data": {
      "text/plain": [
       "-2.9994007404005996"
      ]
     },
     "execution_count": 20,
     "metadata": {},
     "output_type": "execute_result"
    }
   ],
   "source": [
    "data.min()"
   ]
  },
  {
   "cell_type": "code",
   "execution_count": 21,
   "id": "cf6f57d5",
   "metadata": {},
   "outputs": [
    {
     "data": {
      "text/plain": [
       "2.997974733353565"
      ]
     },
     "execution_count": 21,
     "metadata": {},
     "output_type": "execute_result"
    }
   ],
   "source": [
    "data.max()"
   ]
  },
  {
   "cell_type": "code",
   "execution_count": 22,
   "id": "d72375a5",
   "metadata": {},
   "outputs": [
    {
     "data": {
      "text/plain": [
       "array([ 2.02785817, -1.76723268, -2.37325561, -0.50184839,  2.58346672,\n",
       "       -1.138034  , -1.98443676, -0.33250906])"
      ]
     },
     "execution_count": 22,
     "metadata": {},
     "output_type": "execute_result"
    }
   ],
   "source": [
    "data[:8]"
   ]
  },
  {
   "cell_type": "markdown",
   "id": "429eb5a9",
   "metadata": {},
   "source": [
    "We sort the data "
   ]
  },
  {
   "cell_type": "code",
   "execution_count": 23,
   "id": "c015c93e",
   "metadata": {},
   "outputs": [],
   "source": [
    "x = np.sort(data)"
   ]
  },
  {
   "cell_type": "code",
   "execution_count": 24,
   "id": "08e5d297",
   "metadata": {},
   "outputs": [
    {
     "data": {
      "text/plain": [
       "array([-2.99940074, -2.99843412, -2.99311383, -2.99123058, -2.99024392,\n",
       "       -2.98977276, -2.98396242, -2.97968538])"
      ]
     },
     "execution_count": 24,
     "metadata": {},
     "output_type": "execute_result"
    }
   ],
   "source": [
    "x[:8]"
   ]
  },
  {
   "cell_type": "markdown",
   "id": "65980e96",
   "metadata": {},
   "source": [
    "We calculate then the CDF values. We calcule here $F_X(x)$ when $X$ follows a Bernoulli with parameter $p=.4$"
   ]
  },
  {
   "cell_type": "code",
   "execution_count": 25,
   "id": "ee1b82fe",
   "metadata": {},
   "outputs": [],
   "source": [
    "import scipy"
   ]
  },
  {
   "cell_type": "code",
   "execution_count": 26,
   "id": "6e6e0c2a",
   "metadata": {},
   "outputs": [],
   "source": [
    "y = scipy.stats.bernoulli.cdf(x,.4)"
   ]
  },
  {
   "cell_type": "code",
   "execution_count": 27,
   "id": "90acf92b",
   "metadata": {},
   "outputs": [],
   "source": [
    "import matplotlib.pyplot as plt"
   ]
  },
  {
   "cell_type": "code",
   "execution_count": 28,
   "id": "0e004bea",
   "metadata": {},
   "outputs": [
    {
     "data": {
      "text/plain": [
       "Text(0.5, 0, 'x')"
      ]
     },
     "execution_count": 28,
     "metadata": {},
     "output_type": "execute_result"
    },
    {
     "data": {
      "image/png": "[encoded data removed]",
      "text/plain": [
       "<Figure size 432x288 with 1 Axes>"
      ]
     },
     "metadata": {
      "needs_background": "light"
     },
     "output_type": "display_data"
    }
   ],
   "source": [
    "plt.step(x, y,'r*', where='post')\n",
    "plt.xlabel('x')"
   ]
  },
  {
   "cell_type": "markdown",
   "id": "725a088c",
   "metadata": {},
   "source": [
    "The mean of $X$, $\\mathbb{E}(X)=p$"
   ]
  },
  {
   "cell_type": "code",
   "execution_count": 29,
   "id": "3082b465",
   "metadata": {},
   "outputs": [
    {
     "data": {
      "text/plain": [
       "0.3"
      ]
     },
     "execution_count": 29,
     "metadata": {},
     "output_type": "execute_result"
    }
   ],
   "source": [
    "X.mean()"
   ]
  },
  {
   "cell_type": "markdown",
   "id": "68d19435",
   "metadata": {},
   "source": [
    "The variance of $X$, $\\mbox{Var}(X)=p(1-p)$"
   ]
  },
  {
   "cell_type": "code",
   "execution_count": 30,
   "id": "602801c2",
   "metadata": {},
   "outputs": [
    {
     "data": {
      "text/plain": [
       "0.21"
      ]
     },
     "execution_count": 30,
     "metadata": {},
     "output_type": "execute_result"
    }
   ],
   "source": [
    "X.var()"
   ]
  },
  {
   "cell_type": "markdown",
   "id": "568925ba",
   "metadata": {},
   "source": [
    "We also can generate random numbers according to the Bernoulli distribution"
   ]
  },
  {
   "cell_type": "code",
   "execution_count": 31,
   "id": "18b423aa",
   "metadata": {},
   "outputs": [
    {
     "data": {
      "text/plain": [
       "1"
      ]
     },
     "execution_count": 31,
     "metadata": {},
     "output_type": "execute_result"
    }
   ],
   "source": [
    "X.rvs()"
   ]
  },
  {
   "cell_type": "code",
   "execution_count": 32,
   "id": "e1ba4569",
   "metadata": {},
   "outputs": [
    {
     "data": {
      "text/plain": [
       "array([1, 1, 0, 0, 0, 0, 0, 1, 1, 0, 0, 0, 0, 0, 1, 0, 1, 0, 0, 1])"
      ]
     },
     "execution_count": 32,
     "metadata": {},
     "output_type": "execute_result"
    }
   ],
   "source": [
    "X.rvs(20)"
   ]
  },
  {
   "cell_type": "code",
   "execution_count": 33,
   "id": "27b7a137",
   "metadata": {},
   "outputs": [],
   "source": [
    "z=X.rvs(100)"
   ]
  },
  {
   "cell_type": "code",
   "execution_count": 34,
   "id": "5de0771d",
   "metadata": {},
   "outputs": [
    {
     "data": {
      "text/plain": [
       "0.24"
      ]
     },
     "execution_count": 34,
     "metadata": {},
     "output_type": "execute_result"
    }
   ],
   "source": [
    "z.mean()"
   ]
  },
  {
   "cell_type": "code",
   "execution_count": 35,
   "id": "c7543567",
   "metadata": {},
   "outputs": [
    {
     "data": {
      "text/plain": [
       "0.1824"
      ]
     },
     "execution_count": 35,
     "metadata": {},
     "output_type": "execute_result"
    }
   ],
   "source": [
    "z.var()"
   ]
  },
  {
   "cell_type": "markdown",
   "id": "098b644d",
   "metadata": {},
   "source": [
    "#### Poisson distribution "
   ]
  },
  {
   "cell_type": "markdown",
   "id": "9944b983",
   "metadata": {},
   "source": [
    "A random variable $X$ with Poisson distribution, with parameter $\\lambda>0$, is a discrete random variable with values in $\\mathbb{N}$, with probability function: for all $k\\in \\mathbb{N}$,\n",
    "$$p(k)=\\mathbb{P}(X=k)=e^{-\\lambda} \\displaystyle\\frac{x^k}{k!}$$"
   ]
  },
  {
   "cell_type": "markdown",
   "id": "168da19e",
   "metadata": {},
   "source": [
    "$\\mathbb{E}(X)=\\lambda$ and $\\mbox{Var}(X)=\\lambda$"
   ]
  },
  {
   "cell_type": "code",
   "execution_count": 36,
   "id": "d51b1d28",
   "metadata": {},
   "outputs": [],
   "source": [
    "from scipy import stats"
   ]
  },
  {
   "cell_type": "markdown",
   "id": "64c947ab",
   "metadata": {},
   "source": [
    "We consider $X$ a random variable with Poisson distribution $\\lambda=1.4$ "
   ]
  },
  {
   "cell_type": "code",
   "execution_count": 37,
   "id": "7cd89580",
   "metadata": {},
   "outputs": [],
   "source": [
    "X= stats.poisson(1.4)"
   ]
  },
  {
   "cell_type": "code",
   "execution_count": 38,
   "id": "06e54999",
   "metadata": {},
   "outputs": [
    {
     "data": {
      "text/plain": [
       "0.11277701150929471"
      ]
     },
     "execution_count": 38,
     "metadata": {},
     "output_type": "execute_result"
    }
   ],
   "source": [
    "X.pmf(3)"
   ]
  },
  {
   "cell_type": "code",
   "execution_count": 39,
   "id": "040e9e4d",
   "metadata": {},
   "outputs": [
    {
     "data": {
      "text/plain": [
       "0.039471954028253146"
      ]
     },
     "execution_count": 39,
     "metadata": {},
     "output_type": "execute_result"
    }
   ],
   "source": [
    "X.pmf(4)"
   ]
  },
  {
   "cell_type": "markdown",
   "id": "b071fc5e",
   "metadata": {},
   "source": [
    "Let's draw the probability function of a Poisson random variable "
   ]
  },
  {
   "cell_type": "code",
   "execution_count": 40,
   "id": "38e6ea72",
   "metadata": {},
   "outputs": [],
   "source": [
    "x=np.arange(0,20)"
   ]
  },
  {
   "cell_type": "code",
   "execution_count": 41,
   "id": "1c3d3993",
   "metadata": {},
   "outputs": [],
   "source": [
    "y = scipy.stats.poisson.pmf(x,1.4)"
   ]
  },
  {
   "cell_type": "code",
   "execution_count": 42,
   "id": "3d7701ab",
   "metadata": {},
   "outputs": [
    {
     "data": {
      "text/plain": [
       "array([2.46596964e-01, 3.45235750e-01, 2.41665025e-01, 1.12777012e-01,\n",
       "       3.94719540e-02, 1.10521471e-02, 2.57883433e-03, 5.15766866e-04,\n",
       "       9.02592015e-05, 1.40403202e-05, 1.96564483e-06, 2.50172979e-07,\n",
       "       2.91868475e-08, 3.14319896e-09, 3.14319896e-10, 2.93365237e-11,\n",
       "       2.56694582e-12, 2.11395538e-13, 1.64418752e-14, 1.21150659e-15])"
      ]
     },
     "execution_count": 42,
     "metadata": {},
     "output_type": "execute_result"
    }
   ],
   "source": [
    "y"
   ]
  },
  {
   "cell_type": "code",
   "execution_count": 43,
   "id": "9f8f52e5",
   "metadata": {},
   "outputs": [
    {
     "data": {
      "image/png": "[encoded data removed]",
      "text/plain": [
       "<Figure size 432x288 with 1 Axes>"
      ]
     },
     "metadata": {
      "needs_background": "light"
     },
     "output_type": "display_data"
    }
   ],
   "source": [
    "plt.bar(x, y)\n",
    "plt.xticks(x)\n",
    "plt.show()"
   ]
  },
  {
   "cell_type": "code",
   "execution_count": 44,
   "id": "67f206ad",
   "metadata": {},
   "outputs": [
    {
     "data": {
      "text/plain": [
       "1.4"
      ]
     },
     "execution_count": 44,
     "metadata": {},
     "output_type": "execute_result"
    }
   ],
   "source": [
    "X.mean()"
   ]
  },
  {
   "cell_type": "code",
   "execution_count": 45,
   "id": "daf882fc",
   "metadata": {},
   "outputs": [
    {
     "data": {
      "text/plain": [
       "1.4"
      ]
     },
     "execution_count": 45,
     "metadata": {},
     "output_type": "execute_result"
    }
   ],
   "source": [
    "X.var()"
   ]
  },
  {
   "cell_type": "markdown",
   "id": "b6e083c2",
   "metadata": {},
   "source": [
    "Cumulative distribution function"
   ]
  },
  {
   "cell_type": "code",
   "execution_count": 46,
   "id": "5ff09578",
   "metadata": {},
   "outputs": [
    {
     "data": {
      "text/plain": [
       "0.8334977381226298"
      ]
     },
     "execution_count": 46,
     "metadata": {},
     "output_type": "execute_result"
    }
   ],
   "source": [
    "X.cdf(2)"
   ]
  },
  {
   "cell_type": "code",
   "execution_count": 47,
   "id": "65ff87a0",
   "metadata": {},
   "outputs": [
    {
     "data": {
      "text/plain": [
       "0.9967988507880886"
      ]
     },
     "execution_count": 47,
     "metadata": {},
     "output_type": "execute_result"
    }
   ],
   "source": [
    "X.cdf(5)"
   ]
  },
  {
   "cell_type": "markdown",
   "id": "a636b7c7",
   "metadata": {},
   "source": [
    "Let's draw the CDF then "
   ]
  },
  {
   "cell_type": "code",
   "execution_count": 48,
   "id": "58daf3d5",
   "metadata": {},
   "outputs": [],
   "source": [
    "data = np.random.random(1000)"
   ]
  },
  {
   "cell_type": "code",
   "execution_count": 49,
   "id": "f4388db7",
   "metadata": {},
   "outputs": [],
   "source": [
    "data=7*data"
   ]
  },
  {
   "cell_type": "code",
   "execution_count": 50,
   "id": "15a88f44",
   "metadata": {},
   "outputs": [],
   "source": [
    "x=np.sort(data)"
   ]
  },
  {
   "cell_type": "code",
   "execution_count": 51,
   "id": "271532aa",
   "metadata": {},
   "outputs": [],
   "source": [
    "y = scipy.stats.poisson.cdf(x,1.4)"
   ]
  },
  {
   "cell_type": "code",
   "execution_count": 52,
   "id": "e640d20d",
   "metadata": {},
   "outputs": [
    {
     "data": {
      "text/plain": [
       "Text(0.5, 0, 'x')"
      ]
     },
     "execution_count": 52,
     "metadata": {},
     "output_type": "execute_result"
    },
    {
     "data": {
      "image/png": "[encoded data removed]",
      "text/plain": [
       "<Figure size 432x288 with 1 Axes>"
      ]
     },
     "metadata": {
      "needs_background": "light"
     },
     "output_type": "display_data"
    }
   ],
   "source": [
    "plt.step(x, y,'r*', where='post')\n",
    "plt.xlabel('x')"
   ]
  },
  {
   "cell_type": "markdown",
   "id": "05391365",
   "metadata": {},
   "source": [
    "Generate Poisson random numbers "
   ]
  },
  {
   "cell_type": "code",
   "execution_count": 53,
   "id": "8983ab91",
   "metadata": {},
   "outputs": [
    {
     "data": {
      "text/plain": [
       "1"
      ]
     },
     "execution_count": 53,
     "metadata": {},
     "output_type": "execute_result"
    }
   ],
   "source": [
    "X.rvs()"
   ]
  },
  {
   "cell_type": "code",
   "execution_count": 54,
   "id": "ef843ea6",
   "metadata": {},
   "outputs": [
    {
     "data": {
      "text/plain": [
       "array([0, 0, 2, 2, 0, 1, 1, 3, 1, 0, 1, 0, 2, 0, 4, 2, 2, 3, 1, 1])"
      ]
     },
     "execution_count": 54,
     "metadata": {},
     "output_type": "execute_result"
    }
   ],
   "source": [
    "X.rvs(20)"
   ]
  },
  {
   "cell_type": "code",
   "execution_count": 55,
   "id": "ad0ea0ff",
   "metadata": {},
   "outputs": [],
   "source": [
    "z=X.rvs(100)"
   ]
  },
  {
   "cell_type": "code",
   "execution_count": 56,
   "id": "80ef8a5c",
   "metadata": {},
   "outputs": [
    {
     "data": {
      "text/plain": [
       "1.38"
      ]
     },
     "execution_count": 56,
     "metadata": {},
     "output_type": "execute_result"
    }
   ],
   "source": [
    "z.mean()"
   ]
  },
  {
   "cell_type": "code",
   "execution_count": 57,
   "id": "0a31bb9b",
   "metadata": {},
   "outputs": [
    {
     "data": {
      "text/plain": [
       "1.3755999999999997"
      ]
     },
     "execution_count": 57,
     "metadata": {},
     "output_type": "execute_result"
    }
   ],
   "source": [
    "z.var()"
   ]
  },
  {
   "cell_type": "markdown",
   "id": "58a10b9e",
   "metadata": {},
   "source": [
    "Let's estimate the probability of $\\mathbb{P}(X<3)$ and compare it with the theorical value. We will call an **empirical estimation** of $\\mathbb{P}(X<3)$"
   ]
  },
  {
   "cell_type": "code",
   "execution_count": 58,
   "id": "385c9857",
   "metadata": {},
   "outputs": [
    {
     "data": {
      "text/plain": [
       "array([ True,  True,  True,  True, False,  True,  True,  True,  True,\n",
       "        True,  True,  True,  True,  True,  True,  True,  True,  True,\n",
       "        True,  True,  True, False, False,  True,  True,  True,  True,\n",
       "       False,  True,  True,  True,  True,  True,  True,  True,  True,\n",
       "        True,  True,  True,  True,  True,  True, False,  True, False,\n",
       "        True,  True,  True, False,  True, False,  True,  True,  True,\n",
       "       False,  True, False, False,  True, False,  True,  True,  True,\n",
       "        True,  True, False,  True,  True,  True,  True,  True,  True,\n",
       "        True,  True, False,  True,  True,  True,  True,  True,  True,\n",
       "        True,  True,  True,  True,  True,  True,  True,  True,  True,\n",
       "       False,  True,  True,  True,  True,  True,  True,  True, False,\n",
       "        True])"
      ]
     },
     "execution_count": 58,
     "metadata": {},
     "output_type": "execute_result"
    }
   ],
   "source": [
    "z<3"
   ]
  },
  {
   "cell_type": "code",
   "execution_count": 59,
   "id": "4d31df6d",
   "metadata": {},
   "outputs": [],
   "source": [
    "zz=z<3"
   ]
  },
  {
   "cell_type": "code",
   "execution_count": 60,
   "id": "e22a7b20",
   "metadata": {},
   "outputs": [
    {
     "data": {
      "text/plain": [
       "84"
      ]
     },
     "execution_count": 60,
     "metadata": {},
     "output_type": "execute_result"
    }
   ],
   "source": [
    "zz.sum()"
   ]
  },
  {
   "cell_type": "code",
   "execution_count": 61,
   "id": "c3c43ea5",
   "metadata": {},
   "outputs": [],
   "source": [
    "phat=zz.sum()/len(zz)"
   ]
  },
  {
   "cell_type": "code",
   "execution_count": 62,
   "id": "1e313270",
   "metadata": {},
   "outputs": [
    {
     "data": {
      "text/plain": [
       "0.84"
      ]
     },
     "execution_count": 62,
     "metadata": {},
     "output_type": "execute_result"
    }
   ],
   "source": [
    "phat"
   ]
  },
  {
   "cell_type": "markdown",
   "id": "bf3ba944",
   "metadata": {},
   "source": [
    "The theorical value is "
   ]
  },
  {
   "cell_type": "code",
   "execution_count": 63,
   "id": "b395025e",
   "metadata": {},
   "outputs": [
    {
     "data": {
      "text/plain": [
       "0.8334977381226298"
      ]
     },
     "execution_count": 63,
     "metadata": {},
     "output_type": "execute_result"
    }
   ],
   "source": [
    "X.cdf(2.999)"
   ]
  },
  {
   "cell_type": "markdown",
   "id": "95d1d604",
   "metadata": {},
   "source": [
    "We will show now that we can estimate with a good accuracy the theoritical probability with the empirical estimation by increasing the number of generations"
   ]
  },
  {
   "cell_type": "code",
   "execution_count": 64,
   "id": "f6b67328",
   "metadata": {},
   "outputs": [],
   "source": [
    "x=np.arange(1,1001)"
   ]
  },
  {
   "cell_type": "code",
   "execution_count": 65,
   "id": "59a7645e",
   "metadata": {},
   "outputs": [],
   "source": [
    "z=X.rvs(1000)"
   ]
  },
  {
   "cell_type": "code",
   "execution_count": 66,
   "id": "2b90105d",
   "metadata": {},
   "outputs": [],
   "source": [
    "zz=z<3"
   ]
  },
  {
   "cell_type": "code",
   "execution_count": 67,
   "id": "a6a0025f",
   "metadata": {},
   "outputs": [],
   "source": [
    "phat=zz.cumsum()/x"
   ]
  },
  {
   "cell_type": "markdown",
   "id": "c9d5eab8",
   "metadata": {},
   "source": [
    "plt.plot(x, phat)\n",
    "plt.axhline(y=X.cdf(2.999),color='red', linestyle='--')\n",
    "plt.xlabel('Number of generations')"
   ]
  },
  {
   "cell_type": "markdown",
   "id": "9a69e671",
   "metadata": {},
   "source": [
    "**Exercise** "
   ]
  },
  {
   "cell_type": "markdown",
   "id": "641ddc96",
   "metadata": {},
   "source": [
    "The following table provides the Python commands corresponding to each discrete probability distributions"
   ]
  },
  {
   "cell_type": "markdown",
   "id": "85644a07",
   "metadata": {},
   "source": [
    "<style type=\"text/css\">\n",
    ".tg  {border-collapse:collapse;border-spacing:0;}\n",
    ".tg td{border-color:black;border-style:solid;border-width:1px;font-family:Arial, sans-serif;font-size:14px;\n",
    "  overflow:hidden;padding:10px 5px;word-break:normal;}\n",
    ".tg th{border-color:black;border-style:solid;border-width:1px;font-family:Arial, sans-serif;font-size:14px;\n",
    "  font-weight:normal;overflow:hidden;padding:10px 5px;word-break:normal;}\n",
    ".tg .tg-0pky{border-color:inherit;text-align:left;vertical-align:top}\n",
    ".tg .tg-zh46{border-color:inherit;font-family:\"Courier New\", Courier, monospace !important;text-align:left;vertical-align:top}\n",
    "</style>\n",
    "<table class=\"tg\">\n",
    "<thead>\n",
    "  <tr>\n",
    "    <th class=\"tg-0pky\">Name</th>\n",
    "    <th class=\"tg-zh46\">Python command</th>\n",
    "    <th class=\"tg-0pky\">parameters</th>\n",
    "  </tr>\n",
    "</thead>\n",
    "<tbody>\n",
    "    <tr>\n",
    "    <th class=\"tg-0pky\">Geometric $p$</th>\n",
    "    <th class=\"tg-zh46\">stats.geom(p)</th>\n",
    "    <th class=\"tg-0pky\">$p$ is the probability</th>\n",
    "  </tr>\n",
    "  <tr>\n",
    "    <td class=\"tg-0pky\">Binomial $(n,p)$</td>\n",
    "    <td class=\"tg-zh46\">stats.binom(n, p)</td>\n",
    "    <td class=\"tg-0pky\">$n$ is the size and $p$ is the probability</td>\n",
    "  </tr>\n",
    "</tbody>\n",
    "</table>"
   ]
  },
  {
   "cell_type": "markdown",
   "id": "9d4c05ab",
   "metadata": {},
   "source": [
    "#### Normal distribution "
   ]
  },
  {
   "cell_type": "markdown",
   "id": "c8ae8ccb",
   "metadata": {},
   "source": [
    "A random variable variable $X$ with Normal distribution if its probability density function is defined as follows:\n",
    "$$f(x)=\\displaystyle\\frac{1}{\\sqrt{2\\pi}\\sigma} \\exp\\left[ -\\left(\\displaystyle\\frac{x-\\mu}{\\sigma^2}\\right)^2\\right]$$"
   ]
  },
  {
   "cell_type": "markdown",
   "id": "c2fe2fca",
   "metadata": {},
   "source": [
    "where $\\mu\\in \\mathbb{R}$ and $\\sigma>0$."
   ]
  },
  {
   "cell_type": "markdown",
   "id": "4e15337e",
   "metadata": {},
   "source": [
    "$X$ is a continuous random variable with values in $\\mathbb{R}$. We write $X\\sim \\mathcal{N}(\\mu,\\sigma^2)$. "
   ]
  },
  {
   "cell_type": "markdown",
   "id": "9021c817",
   "metadata": {},
   "source": [
    "$\\mathbb{E}(X)=\\mu$ and $\\mbox{Var}(X)=\\sigma^2$"
   ]
  },
  {
   "cell_type": "markdown",
   "id": "a9eb3a12",
   "metadata": {},
   "source": [
    "$\\mathbb{P}\\left(\\mu-1.96\\sigma \\leq X\\leq \\mu+1.96\\sigma\\right)=.95$"
   ]
  },
  {
   "cell_type": "markdown",
   "id": "e2e6b5fc",
   "metadata": {},
   "source": [
    "$Z=\\displaystyle\\frac{x-\\mu}{\\sigma}$ follows the Normal distribution $\\mathcal{N}(0,1)$. "
   ]
  },
  {
   "cell_type": "markdown",
   "id": "ff1268d8",
   "metadata": {},
   "source": [
    "We consider a random variable with mean $\\mu=1.4$ and variance $\\sigma^2=2^2$"
   ]
  },
  {
   "cell_type": "code",
   "execution_count": 68,
   "id": "8d4105e4",
   "metadata": {},
   "outputs": [],
   "source": [
    "import math\n",
    "from scipy import stats"
   ]
  },
  {
   "cell_type": "code",
   "execution_count": 69,
   "id": "990a40db",
   "metadata": {},
   "outputs": [],
   "source": [
    "X= stats.norm(1.4,2) "
   ]
  },
  {
   "cell_type": "code",
   "execution_count": 70,
   "id": "83b6f1be",
   "metadata": {},
   "outputs": [
    {
     "data": {
      "text/plain": [
       "1.4"
      ]
     },
     "execution_count": 70,
     "metadata": {},
     "output_type": "execute_result"
    }
   ],
   "source": [
    "X.mean()"
   ]
  },
  {
   "cell_type": "code",
   "execution_count": 71,
   "id": "4783e044",
   "metadata": {},
   "outputs": [
    {
     "data": {
      "text/plain": [
       "4.0"
      ]
     },
     "execution_count": 71,
     "metadata": {},
     "output_type": "execute_result"
    }
   ],
   "source": [
    "X.var()"
   ]
  },
  {
   "cell_type": "code",
   "execution_count": 72,
   "id": "55751a5f",
   "metadata": {},
   "outputs": [
    {
     "data": {
      "text/plain": [
       "0.14484577638074136"
      ]
     },
     "execution_count": 72,
     "metadata": {},
     "output_type": "execute_result"
    }
   ],
   "source": [
    "X.pdf(3)"
   ]
  },
  {
   "cell_type": "code",
   "execution_count": 73,
   "id": "6faa6023",
   "metadata": {},
   "outputs": [
    {
     "data": {
      "text/plain": [
       "0.19947114020071635"
      ]
     },
     "execution_count": 73,
     "metadata": {},
     "output_type": "execute_result"
    }
   ],
   "source": [
    "X.pdf(1.4)"
   ]
  },
  {
   "cell_type": "code",
   "execution_count": 74,
   "id": "02d7e654",
   "metadata": {},
   "outputs": [
    {
     "data": {
      "text/plain": [
       "0.19947114020071635"
      ]
     },
     "execution_count": 74,
     "metadata": {},
     "output_type": "execute_result"
    }
   ],
   "source": [
    "1/math.sqrt(2*math.pi*4)"
   ]
  },
  {
   "cell_type": "code",
   "execution_count": 75,
   "id": "fc471a74",
   "metadata": {},
   "outputs": [
    {
     "data": {
      "text/plain": [
       "5.99037140106353e-09"
      ]
     },
     "execution_count": 75,
     "metadata": {},
     "output_type": "execute_result"
    }
   ],
   "source": [
    "X.cdf(-10)"
   ]
  },
  {
   "cell_type": "code",
   "execution_count": 76,
   "id": "64d9de58",
   "metadata": {},
   "outputs": [
    {
     "data": {
      "text/plain": [
       "0.24196365222307303"
      ]
     },
     "execution_count": 76,
     "metadata": {},
     "output_type": "execute_result"
    }
   ],
   "source": [
    "X.cdf(0)"
   ]
  },
  {
   "cell_type": "code",
   "execution_count": 77,
   "id": "6fa22f8e",
   "metadata": {},
   "outputs": [
    {
     "data": {
      "text/plain": [
       "0.5"
      ]
     },
     "execution_count": 77,
     "metadata": {},
     "output_type": "execute_result"
    }
   ],
   "source": [
    "X.cdf(1.4)"
   ]
  },
  {
   "cell_type": "code",
   "execution_count": 78,
   "id": "043c0851",
   "metadata": {},
   "outputs": [
    {
     "data": {
      "text/plain": [
       "0.024997895148220435"
      ]
     },
     "execution_count": 78,
     "metadata": {},
     "output_type": "execute_result"
    }
   ],
   "source": [
    "X.cdf(1.4-1.96*2)"
   ]
  },
  {
   "cell_type": "code",
   "execution_count": 79,
   "id": "4b640728",
   "metadata": {},
   "outputs": [
    {
     "data": {
      "text/plain": [
       "0.9750021048517796"
      ]
     },
     "execution_count": 79,
     "metadata": {},
     "output_type": "execute_result"
    }
   ],
   "source": [
    "X.cdf(1.4+1.96*2)"
   ]
  },
  {
   "cell_type": "code",
   "execution_count": 80,
   "id": "6291f9ec",
   "metadata": {},
   "outputs": [
    {
     "data": {
      "text/plain": [
       "-0.21914496466266464"
      ]
     },
     "execution_count": 80,
     "metadata": {},
     "output_type": "execute_result"
    }
   ],
   "source": [
    "X.rvs()"
   ]
  },
  {
   "cell_type": "code",
   "execution_count": 81,
   "id": "a28d6b21",
   "metadata": {},
   "outputs": [],
   "source": [
    "data = X.rvs(1000)"
   ]
  },
  {
   "cell_type": "code",
   "execution_count": 82,
   "id": "bbf10e9e",
   "metadata": {},
   "outputs": [],
   "source": [
    "import numpy as np"
   ]
  },
  {
   "cell_type": "code",
   "execution_count": 83,
   "id": "e62abc6f",
   "metadata": {},
   "outputs": [],
   "source": [
    "x = np.sort(data)"
   ]
  },
  {
   "cell_type": "code",
   "execution_count": 84,
   "id": "47217f52",
   "metadata": {},
   "outputs": [],
   "source": [
    "import scipy"
   ]
  },
  {
   "cell_type": "code",
   "execution_count": 85,
   "id": "9630392a",
   "metadata": {},
   "outputs": [],
   "source": [
    "y = scipy.stats.norm.cdf(x,1.4,2)"
   ]
  },
  {
   "cell_type": "code",
   "execution_count": 86,
   "id": "19a6a223",
   "metadata": {},
   "outputs": [],
   "source": [
    "import matplotlib.pyplot as plt"
   ]
  },
  {
   "cell_type": "code",
   "execution_count": 87,
   "id": "09bab444",
   "metadata": {},
   "outputs": [
    {
     "data": {
      "text/plain": [
       "Text(0, 0.5, 'CDF of X')"
      ]
     },
     "execution_count": 87,
     "metadata": {},
     "output_type": "execute_result"
    },
    {
     "data": {
      "image/png": "[encoded data removed]",
      "text/plain": [
       "<Figure size 432x288 with 1 Axes>"
      ]
     },
     "metadata": {
      "needs_background": "light"
     },
     "output_type": "display_data"
    }
   ],
   "source": [
    "plt.step(x, y)\n",
    "plt.xlabel('x')\n",
    "plt.ylabel('CDF of X')"
   ]
  },
  {
   "cell_type": "markdown",
   "id": "8196d2ff",
   "metadata": {},
   "source": [
    "#### Exponential distribution "
   ]
  },
  {
   "cell_type": "markdown",
   "id": "bb95fe4e",
   "metadata": {},
   "source": [
    "A random variable variable $X$ with Exponential distribution if its probability density function is defined as follows:\n",
    "$$f(x)=(1/\\lambda)\\, \\exp\\left(-x/\\lambda \\right),$$\n",
    "if $x\\geq 0$, and $f(x)=0$, if $x<  0$, where $\\lambda>0$ and called the scale parameter. "
   ]
  },
  {
   "cell_type": "markdown",
   "id": "08599d27",
   "metadata": {},
   "source": [
    "$X$ is a continuous random variable with values in $\\mathbb{R}^*_+$. We write $X\\sim \\mathcal{E}(\\lambda)$. "
   ]
  },
  {
   "cell_type": "markdown",
   "id": "0fdd8d84",
   "metadata": {},
   "source": [
    "$\\mathbb{E}(X)=\\lambda$ and $\\mbox{Var}(X)=\\lambda^2$."
   ]
  },
  {
   "cell_type": "code",
   "execution_count": 88,
   "id": "7232fb59",
   "metadata": {},
   "outputs": [],
   "source": [
    "import math\n",
    "from scipy import stats"
   ]
  },
  {
   "cell_type": "code",
   "execution_count": 89,
   "id": "536d4f9b",
   "metadata": {},
   "outputs": [],
   "source": [
    "X= stats.expon(scale=2.2)"
   ]
  },
  {
   "cell_type": "code",
   "execution_count": 90,
   "id": "4232b285",
   "metadata": {},
   "outputs": [
    {
     "data": {
      "text/plain": [
       "2.2"
      ]
     },
     "execution_count": 90,
     "metadata": {},
     "output_type": "execute_result"
    }
   ],
   "source": [
    "X.mean()"
   ]
  },
  {
   "cell_type": "code",
   "execution_count": 91,
   "id": "f55ac4ec",
   "metadata": {},
   "outputs": [
    {
     "data": {
      "text/plain": [
       "4.840000000000001"
      ]
     },
     "execution_count": 91,
     "metadata": {},
     "output_type": "execute_result"
    }
   ],
   "source": [
    "X.var()"
   ]
  },
  {
   "cell_type": "code",
   "execution_count": 92,
   "id": "e2c083e1",
   "metadata": {},
   "outputs": [
    {
     "data": {
      "text/plain": [
       "4.840000000000001"
      ]
     },
     "execution_count": 92,
     "metadata": {},
     "output_type": "execute_result"
    }
   ],
   "source": [
    "2.2**2"
   ]
  },
  {
   "cell_type": "markdown",
   "id": "d9bfdb96",
   "metadata": {},
   "source": [
    "The cumulative distribution function of an exponential random variable is expressed as following:\n",
    "$$F_X(x)=1-e^{-x/\\lambda}$$\n",
    "when $x>0$ and $F_X(x)=0$, when $x\\leq 0$. "
   ]
  },
  {
   "cell_type": "code",
   "execution_count": 93,
   "id": "b2c8816d",
   "metadata": {},
   "outputs": [
    {
     "data": {
      "text/plain": [
       "0.7442708400868994"
      ]
     },
     "execution_count": 93,
     "metadata": {},
     "output_type": "execute_result"
    }
   ],
   "source": [
    "X.cdf(3)"
   ]
  },
  {
   "cell_type": "code",
   "execution_count": 94,
   "id": "33d98184",
   "metadata": {},
   "outputs": [
    {
     "data": {
      "text/plain": [
       "0.7442708400868994"
      ]
     },
     "execution_count": 94,
     "metadata": {},
     "output_type": "execute_result"
    }
   ],
   "source": [
    "1-math.exp(-3/2.2)"
   ]
  },
  {
   "cell_type": "code",
   "execution_count": 95,
   "id": "a14e88f5",
   "metadata": {},
   "outputs": [
    {
     "data": {
      "text/plain": [
       "1.0"
      ]
     },
     "execution_count": 95,
     "metadata": {},
     "output_type": "execute_result"
    }
   ],
   "source": [
    "math.exp(0)"
   ]
  },
  {
   "cell_type": "code",
   "execution_count": 96,
   "id": "6217312c",
   "metadata": {},
   "outputs": [
    {
     "data": {
      "text/plain": [
       "0.45454545454545453"
      ]
     },
     "execution_count": 96,
     "metadata": {},
     "output_type": "execute_result"
    }
   ],
   "source": [
    "X.pdf(0)"
   ]
  },
  {
   "cell_type": "code",
   "execution_count": 97,
   "id": "92f7a238",
   "metadata": {},
   "outputs": [
    {
     "data": {
      "text/plain": [
       "0.45454545454545453"
      ]
     },
     "execution_count": 97,
     "metadata": {},
     "output_type": "execute_result"
    }
   ],
   "source": [
    "1/2.2"
   ]
  },
  {
   "cell_type": "code",
   "execution_count": 98,
   "id": "48a27f5f",
   "metadata": {},
   "outputs": [
    {
     "data": {
      "text/plain": [
       "0.11624052723322756"
      ]
     },
     "execution_count": 98,
     "metadata": {},
     "output_type": "execute_result"
    }
   ],
   "source": [
    "X.pdf(3)"
   ]
  },
  {
   "cell_type": "code",
   "execution_count": 99,
   "id": "3330a768",
   "metadata": {},
   "outputs": [
    {
     "data": {
      "text/plain": [
       "0.11624052723322756"
      ]
     },
     "execution_count": 99,
     "metadata": {},
     "output_type": "execute_result"
    }
   ],
   "source": [
    "(1/2.2)*math.exp(-3/2.2)"
   ]
  },
  {
   "cell_type": "code",
   "execution_count": 100,
   "id": "b5e9117c",
   "metadata": {},
   "outputs": [
    {
     "data": {
      "text/plain": [
       "3.7768073589176328"
      ]
     },
     "execution_count": 100,
     "metadata": {},
     "output_type": "execute_result"
    }
   ],
   "source": [
    "X.rvs()"
   ]
  },
  {
   "cell_type": "markdown",
   "id": "a8336bc1",
   "metadata": {},
   "source": [
    "Let's the curve of the CDF of $X$"
   ]
  },
  {
   "cell_type": "code",
   "execution_count": 101,
   "id": "43bd9051",
   "metadata": {},
   "outputs": [],
   "source": [
    "import numpy as np"
   ]
  },
  {
   "cell_type": "code",
   "execution_count": 102,
   "id": "6c8cb8ed",
   "metadata": {},
   "outputs": [],
   "source": [
    "data  = 5*(2*np.random.random(1000)-1)"
   ]
  },
  {
   "cell_type": "code",
   "execution_count": 103,
   "id": "0fda93fe",
   "metadata": {},
   "outputs": [],
   "source": [
    "x=np.sort(data)"
   ]
  },
  {
   "cell_type": "code",
   "execution_count": 104,
   "id": "6982f1f4",
   "metadata": {},
   "outputs": [],
   "source": [
    "y = scipy.stats.expon.cdf(x,2.2)"
   ]
  },
  {
   "cell_type": "code",
   "execution_count": 105,
   "id": "ef425955",
   "metadata": {},
   "outputs": [],
   "source": [
    "import matplotlib.pyplot as plt"
   ]
  },
  {
   "cell_type": "code",
   "execution_count": 106,
   "id": "e5b47712",
   "metadata": {},
   "outputs": [
    {
     "data": {
      "text/plain": [
       "Text(0, 0.5, 'CDF of X')"
      ]
     },
     "execution_count": 106,
     "metadata": {},
     "output_type": "execute_result"
    },
    {
     "data": {
      "image/png": "[encoded data removed]",
      "text/plain": [
       "<Figure size 432x288 with 1 Axes>"
      ]
     },
     "metadata": {
      "needs_background": "light"
     },
     "output_type": "display_data"
    }
   ],
   "source": [
    "plt.step(x, y)\n",
    "plt.xlabel('x')\n",
    "plt.ylabel('CDF of X')"
   ]
  }
 ],
 "metadata": {
  "kernelspec": {
   "display_name": "Python 3 (ipykernel)",
   "language": "python",
   "name": "python3"
  },
  "language_info": {
   "codemirror_mode": {
    "name": "ipython",
    "version": 3
   },
   "file_extension": ".py",
   "mimetype": "text/x-python",
   "name": "python",
   "nbconvert_exporter": "python",
   "pygments_lexer": "ipython3",
   "version": "3.9.7"
  },
  "latex_envs": {
   "LaTeX_envs_menu_present": true,
   "autoclose": false,
   "autocomplete": true,
   "bibliofile": "biblio.bib",
   "cite_by": "apalike",
   "current_citInitial": 1,
   "eqLabelWithNumbers": true,
   "eqNumInitial": 1,
   "hotkeys": {
    "equation": "Ctrl-E",
    "itemize": "Ctrl-I"
   },
   "labels_anchors": false,
   "latex_user_defs": false,
   "report_style_numbering": false,
   "user_envs_cfg": false
  },
  "toc": {
   "base_numbering": 1,
   "nav_menu": {},
   "number_sections": true,
   "sideBar": true,
   "skip_h1_title": true,
   "title_cell": "Table of Contents",
   "title_sidebar": "Contents",
   "toc_cell": true,
   "toc_position": {
    "height": "calc(100% - 180px)",
    "left": "10px",
    "top": "150px",
    "width": "250.433px"
   },
   "toc_section_display": true,
   "toc_window_display": true
  }
 },
 "nbformat": 4,
 "nbformat_minor": 5
}
