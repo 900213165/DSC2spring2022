{
 "cells": [
  {
   "cell_type": "markdown",
   "id": "f20c8926",
   "metadata": {},
   "source": [
    "# Probability distributions with Python"
   ]
  },
  {
   "cell_type": "markdown",
   "id": "271231ae",
   "metadata": {},
   "source": [
    "## Introduction"
   ]
  },
  {
   "cell_type": "markdown",
   "id": "0febc7cb",
   "metadata": {},
   "source": [
    "For any random experience, we try to define a numerical application that represents the outcomes of the experience. For example, when we flip a coin. The outcomes are either *head* or *tail*, and we will then define an application $X$ with values $\\{0,1\\}$, where $X=0$ if we obtain *tail* and $X=1$ if we obtain *head*. "
   ]
  },
  {
   "cell_type": "markdown",
   "id": "14a47a2b",
   "metadata": {},
   "source": [
    " Such an  application $X$ will be then called a numerical random variable. "
   ]
  },
  {
   "cell_type": "markdown",
   "id": "88745f25",
   "metadata": {},
   "source": [
    "**Definition** A random variable $X$ is an application from a set $\\Omega$, the outcomes of the random experience and a subset of real numbers:\n",
    "$$X\\,:\\,\\Omega \\longrightarrow   \\mathbb{R}\\;\\;\\; \\omega    \\longmapsto  X(\\omega)\\in \\mathbb{R}$$\n",
    " "
   ]
  },
  {
   "cell_type": "markdown",
   "id": "dc6cc7c6",
   "metadata": {},
   "source": [
    "There are two types of random variables:\n",
    "\n",
    " + *Discrete* random variables where the possible values of $X$ is a discrete subset of $\\mathbb{R}$\n",
    " + *Continuous* random variables where the possible values of $X$ falls in a subinterval of $\\mathbb{R}$"
   ]
  },
  {
   "cell_type": "markdown",
   "id": "fd28879c",
   "metadata": {},
   "source": [
    "### Examples: \n",
    "\n",
    "#### Bernoulli random variables \n",
    "\n",
    " We flip a coin and the outcomes are either head or tail, The values of $X$ are either $0$ or $1$. $X$ will be called a Bernoulli random variable. We will be interested to the probability to observe *head*, $\\mathbb{P}(X=1)$, and the probability to observe *tail*, $\\mathbb{P}(X=0)$.   "
   ]
  },
  {
   "cell_type": "markdown",
   "id": "d0be67ff",
   "metadata": {},
   "source": [
    "\n",
    "\n",
    "+ $\\mathbb{P}(X=0)$ and $\\mathbb{P}(X=1)$ belong to $[0,1]$\n",
    "+ $\\mathbb{P}(X=0)+\\mathbb{P}(X=1)=1$\n",
    "+ Since the values of $X$ are in the set $\\{0,1\\}$, then $X$ is a discrete variable"
   ]
  },
  {
   "cell_type": "markdown",
   "id": "3791827e",
   "metadata": {},
   "source": [
    "If we assume $p=\\mathbb{P}(X=1)$, we will say that $X$ is a Bernoulli random variable with parameter $p$"
   ]
  },
  {
   "cell_type": "markdown",
   "id": "e93fb9c8",
   "metadata": {},
   "source": [
    "#### Tossing a dice "
   ]
  },
  {
   "cell_type": "markdown",
   "id": "9bd64575",
   "metadata": {},
   "source": [
    "When we toss a dice the outcomes are the numbers : 1,2,3,4,5,6. We can then define a random variable $X$ with values in $\\{1,2,\\ldots,6\\}$ where we will be interested to the probabilities: \n",
    "$$\\mathbb{P}(X=i)=p_i,\\;\\;\\forall \\,i=1,\\ldots,6$$"
   ]
  },
  {
   "cell_type": "markdown",
   "id": "3262b925",
   "metadata": {},
   "source": [
    "+ $\\forall$ $i=1,\\ldots,6$, $p_i\\in [0,1]$\n",
    "+ $\\sum_{i=1}^6 p_i=1$\n",
    "+ $X$ is a discrete random variable\n",
    "+ When $\\forall$ $i=1,\\ldots,6$, $p_i=1/6$, $X$ will be called a uniform discrete random variable in $\\{1,\\ldots,6\\}$"
   ]
  },
  {
   "cell_type": "markdown",
   "id": "bd3c151b",
   "metadata": {},
   "source": [
    "#### Poisson random variables "
   ]
  },
  {
   "cell_type": "markdown",
   "id": "e39d4400",
   "metadata": {},
   "source": [
    "Assume that we are interested in the number of customers arriving in a store during one hour. Let's denote by $X$ this number. It's a random number, and it can be any number belonging to the set of integers $\\mathbb{N}$. "
   ]
  },
  {
   "cell_type": "markdown",
   "id": "a625f660",
   "metadata": {},
   "source": [
    "$X$ is then a discrete random variables with values in $\\mathbb{N}$. Some scientists have proved that we can find a positive constant $\\lambda>0$ such that for all $n\\in \\mathbb{N}$, we have \n",
    "$$\\mathbb{P}(X=n)=e^{-\\lambda} \\displaystyle\\frac{\\lambda^n}{n!}$$"
   ]
  },
  {
   "cell_type": "markdown",
   "id": "bb4013d2",
   "metadata": {},
   "source": [
    "#### Life time random variables "
   ]
  },
  {
   "cell_type": "markdown",
   "id": "ae302dd1",
   "metadata": {},
   "source": [
    "In this example, we're interested in the lifetime of electronic components. A positive random variable $ X$ can represent this random experience, where the event $\\{X>t\\}$, for any positive $t$, means that the electronic component is working after the time $t$. Event $\\{X<t\\}$ means that the electronic component stopped working before the instant $t$.  "
   ]
  },
  {
   "cell_type": "markdown",
   "id": "cde9ad07",
   "metadata": {},
   "source": [
    "The random variable $X$ is then a continuous random variable and we will be interested to compute for any positive numbers $a<b$, the following probability:\n",
    "$$\\mathbb{P}(a<X<b)$$"
   ]
  },
  {
   "cell_type": "markdown",
   "id": "3f814229",
   "metadata": {},
   "source": [
    "Some scientist proved that we can find a positive constant $\\lambda>0$ such that for all $a<b$: \n",
    "$$\\mathbb{P}(a<X<b)=\\displaystyle\\int_a^b \\lambda e^{-\\lambda x}dx$$"
   ]
  },
  {
   "cell_type": "markdown",
   "id": "b6f340be",
   "metadata": {},
   "source": [
    "### What should we know on a random variable?"
   ]
  },
  {
   "cell_type": "markdown",
   "id": "094966bb",
   "metadata": {},
   "source": [
    "Any random variable is characterized by its **probability distribution** that can be described by the **cumulative distribution function** (CDF) $F_X$: \n",
    "$$\\begin{array}{lll}\n",
    "F_X & : & \\mathbb{R} \\longrightarrow [0,1] \\\\\n",
    "    &   &  t\\longmapsto F_X(t)=\\mathbb{P}(X\\leq t)\n",
    "    \\end{array}$$"
   ]
  },
  {
   "cell_type": "markdown",
   "id": "4021cd38",
   "metadata": {},
   "source": [
    "+ $F_X$ is an increasing function\n",
    "+ $\\lim_{t\\rightarrow -\\infty} F_X(t)=0$\n",
    "+ $\\lim_{t\\rightarrow +\\infty} F_X(t)=1$\n",
    "+ $F_X$ is a scale function when $X$ is a discrete random variable.\n",
    "+ $F_X$ is of $C^1-$class (continous and admit a first order derivative) when $X$ is a continuous random variable."
   ]
  },
  {
   "cell_type": "markdown",
   "id": "910989df",
   "metadata": {},
   "source": [
    "If $X$ is a discrete we define from $F_X$ the probability function: \n",
    "    $$\\forall\\, x\\;\\; f_X(t)=F_X(t)-\\lim_{x\\rightarrow t, x<t} F_X(x)=\\mathbb{P}(X\\leq t)-\\mathbb{P}(X<t)$$"
   ]
  },
  {
   "cell_type": "markdown",
   "id": "ce37423e",
   "metadata": {},
   "source": [
    "If $X$ is a continuous random variable we can define from $F_X$ the density probability function (pdf) $f_X$. It's the derivative of $F_X$: $f_X=F_X'$. "
   ]
  },
  {
   "cell_type": "markdown",
   "id": "461a0e52",
   "metadata": {},
   "source": [
    "The density probability function can be used to derive the probability that $X$ falls in an iterval $(a,b)$: \n",
    "$$\\mathbb{P}(X\\in (a,b))=\\mathbb{P}(a<X<b)=\\displaystyle\\int_a^b f_X(t)dt$$"
   ]
  },
  {
   "cell_type": "markdown",
   "id": "89adc88e",
   "metadata": {},
   "source": [
    "A random variable is fully determined if we know either the CDF or PDF. We will also to write codes that imitate the random experience that provides us the outcomes of $X$. We call this process simulating the random variable. "
   ]
  },
  {
   "cell_type": "markdown",
   "id": "fa618e30",
   "metadata": {},
   "source": [
    "We will see now with the library *scipy* Python functions that will help us to compute the CDF, the PDF, and to simulate numbers from the probabilty distribution of the random variable. "
   ]
  },
  {
   "cell_type": "markdown",
   "id": "3b6fbf3a",
   "metadata": {},
   "source": [
    "### Probability distributions with Python"
   ]
  },
  {
   "cell_type": "markdown",
   "id": "985dcaf1",
   "metadata": {},
   "source": [
    "We should first installing SciPy"
   ]
  },
  {
   "cell_type": "code",
   "execution_count": 1,
   "id": "a6f533a6",
   "metadata": {},
   "outputs": [
    {
     "name": "stdout",
     "output_type": "stream",
     "text": [
      "Requirement already satisfied: scipy in c:\\programdata\\anaconda3\\lib\\site-packages (1.7.1)\n",
      "Requirement already satisfied: numpy<1.23.0,>=1.16.5 in c:\\programdata\\anaconda3\\lib\\site-packages (from scipy) (1.20.3)\n"
     ]
    }
   ],
   "source": [
    "!pip install scipy"
   ]
  },
  {
   "cell_type": "markdown",
   "id": "415cf7b4",
   "metadata": {},
   "source": [
    "SciPy is a free and open source library for scientific computing that is built on top of NumPy.  We have already seen that NumPy has the capability of drawing samples from many common distributions (type `help(np.random)` in the python interpreter), but SciPy has the added capability of computing the probability of observing events, and it can perform computations directly on the probability mass/density functions."
   ]
  },
  {
   "cell_type": "code",
   "execution_count": 2,
   "id": "53da91eb",
   "metadata": {},
   "outputs": [],
   "source": [
    "import numpy as np"
   ]
  },
  {
   "cell_type": "markdown",
   "id": "d827a123",
   "metadata": {},
   "source": [
    "#### Bernoulli distribution"
   ]
  },
  {
   "cell_type": "code",
   "execution_count": 3,
   "id": "e4da32fb",
   "metadata": {},
   "outputs": [],
   "source": [
    "from scipy import stats"
   ]
  },
  {
   "cell_type": "markdown",
   "id": "8a083521",
   "metadata": {},
   "source": [
    "We define the Bernoulli random variable "
   ]
  },
  {
   "cell_type": "code",
   "execution_count": 4,
   "id": "54566c56",
   "metadata": {},
   "outputs": [],
   "source": [
    "X= stats.bernoulli(.3)"
   ]
  },
  {
   "cell_type": "markdown",
   "id": "74205741",
   "metadata": {},
   "source": [
    "The Probability function "
   ]
  },
  {
   "cell_type": "markdown",
   "id": "1ff417f5",
   "metadata": {},
   "source": [
    "$\\mathbb{P}(X=1)$"
   ]
  },
  {
   "cell_type": "code",
   "execution_count": 5,
   "id": "d01506e9",
   "metadata": {},
   "outputs": [
    {
     "data": {
      "text/plain": [
       "0.3"
      ]
     },
     "execution_count": 5,
     "metadata": {},
     "output_type": "execute_result"
    }
   ],
   "source": [
    "X.pmf(1)"
   ]
  },
  {
   "cell_type": "markdown",
   "id": "65744922",
   "metadata": {},
   "source": [
    "$\\mathbb{P}(X=0)$"
   ]
  },
  {
   "cell_type": "code",
   "execution_count": 6,
   "id": "6e034dc3",
   "metadata": {},
   "outputs": [
    {
     "data": {
      "text/plain": [
       "0.7"
      ]
     },
     "execution_count": 6,
     "metadata": {},
     "output_type": "execute_result"
    }
   ],
   "source": [
    "X.pmf(0)"
   ]
  },
  {
   "cell_type": "markdown",
   "id": "aa59ed19",
   "metadata": {},
   "source": [
    "For any $x\\not \\in \\{0,1\\}$, $\\mathbb{P}(X=x)=0$"
   ]
  },
  {
   "cell_type": "code",
   "execution_count": 7,
   "id": "51fdd282",
   "metadata": {},
   "outputs": [
    {
     "data": {
      "text/plain": [
       "0.0"
      ]
     },
     "execution_count": 7,
     "metadata": {},
     "output_type": "execute_result"
    }
   ],
   "source": [
    "X.pmf(4)"
   ]
  },
  {
   "cell_type": "code",
   "execution_count": 8,
   "id": "a1772e59",
   "metadata": {},
   "outputs": [
    {
     "data": {
      "text/plain": [
       "0.0"
      ]
     },
     "execution_count": 8,
     "metadata": {},
     "output_type": "execute_result"
    }
   ],
   "source": [
    "X.pmf(-2)"
   ]
  },
  {
   "cell_type": "markdown",
   "id": "c3d3ada3",
   "metadata": {},
   "source": [
    "The cumulative distribution function $F_X(x)=\\mathbb{P}(X\\leq x)$"
   ]
  },
  {
   "cell_type": "code",
   "execution_count": 9,
   "id": "3b22ed64",
   "metadata": {},
   "outputs": [
    {
     "data": {
      "text/plain": [
       "0.0"
      ]
     },
     "execution_count": 9,
     "metadata": {},
     "output_type": "execute_result"
    }
   ],
   "source": [
    "X.cdf(-1)"
   ]
  },
  {
   "cell_type": "code",
   "execution_count": 10,
   "id": "57566721",
   "metadata": {},
   "outputs": [
    {
     "data": {
      "text/plain": [
       "0.7"
      ]
     },
     "execution_count": 10,
     "metadata": {},
     "output_type": "execute_result"
    }
   ],
   "source": [
    "X.cdf(0)"
   ]
  },
  {
   "cell_type": "code",
   "execution_count": 11,
   "id": "be7e2982",
   "metadata": {},
   "outputs": [
    {
     "data": {
      "text/plain": [
       "0.7"
      ]
     },
     "execution_count": 11,
     "metadata": {},
     "output_type": "execute_result"
    }
   ],
   "source": [
    "X.cdf(0.2)"
   ]
  },
  {
   "cell_type": "code",
   "execution_count": 12,
   "id": "ebefd50e",
   "metadata": {},
   "outputs": [
    {
     "data": {
      "text/plain": [
       "1.0"
      ]
     },
     "execution_count": 12,
     "metadata": {},
     "output_type": "execute_result"
    }
   ],
   "source": [
    "X.cdf(1)"
   ]
  },
  {
   "cell_type": "code",
   "execution_count": 13,
   "id": "fe68b45e",
   "metadata": {},
   "outputs": [
    {
     "data": {
      "text/plain": [
       "1.0"
      ]
     },
     "execution_count": 13,
     "metadata": {},
     "output_type": "execute_result"
    }
   ],
   "source": [
    "X.cdf(10)"
   ]
  },
  {
   "cell_type": "markdown",
   "id": "51ed64cd",
   "metadata": {},
   "source": [
    "Let's draw the CDF of a Bernoulli random variable. We will first generate random number in $\\mathbb{R}$. "
   ]
  },
  {
   "cell_type": "code",
   "execution_count": 14,
   "id": "6cf61dc6",
   "metadata": {},
   "outputs": [],
   "source": [
    "import numpy as np"
   ]
  },
  {
   "cell_type": "code",
   "execution_count": 15,
   "id": "399803f1",
   "metadata": {},
   "outputs": [],
   "source": [
    "data = np.random.random(1000)"
   ]
  },
  {
   "cell_type": "code",
   "execution_count": 16,
   "id": "b495e742",
   "metadata": {},
   "outputs": [
    {
     "data": {
      "text/plain": [
       "array([0.58292168, 0.08606988, 0.70187402, 0.6378624 , 0.96412293,\n",
       "       0.88742647, 0.33811218, 0.28878222, 0.36417056])"
      ]
     },
     "execution_count": 16,
     "metadata": {},
     "output_type": "execute_result"
    }
   ],
   "source": [
    "data[1:10]"
   ]
  },
  {
   "cell_type": "code",
   "execution_count": 17,
   "id": "491981a0",
   "metadata": {},
   "outputs": [
    {
     "data": {
      "text/plain": [
       "0.0042899886456662095"
      ]
     },
     "execution_count": 17,
     "metadata": {},
     "output_type": "execute_result"
    }
   ],
   "source": [
    "data.min()"
   ]
  },
  {
   "cell_type": "code",
   "execution_count": 18,
   "id": "287536c1",
   "metadata": {},
   "outputs": [
    {
     "data": {
      "text/plain": [
       "0.9976045708969341"
      ]
     },
     "execution_count": 18,
     "metadata": {},
     "output_type": "execute_result"
    }
   ],
   "source": [
    "data.max()"
   ]
  },
  {
   "cell_type": "code",
   "execution_count": 19,
   "id": "08ec2261",
   "metadata": {},
   "outputs": [],
   "source": [
    "data=-3*(2*data-1)"
   ]
  },
  {
   "cell_type": "code",
   "execution_count": 20,
   "id": "99c99ba3",
   "metadata": {},
   "outputs": [
    {
     "data": {
      "text/plain": [
       "-2.9856274253816046"
      ]
     },
     "execution_count": 20,
     "metadata": {},
     "output_type": "execute_result"
    }
   ],
   "source": [
    "data.min()"
   ]
  },
  {
   "cell_type": "code",
   "execution_count": 21,
   "id": "cf6f57d5",
   "metadata": {},
   "outputs": [
    {
     "data": {
      "text/plain": [
       "2.9742600681260027"
      ]
     },
     "execution_count": 21,
     "metadata": {},
     "output_type": "execute_result"
    }
   ],
   "source": [
    "data.max()"
   ]
  },
  {
   "cell_type": "code",
   "execution_count": 22,
   "id": "d72375a5",
   "metadata": {},
   "outputs": [
    {
     "data": {
      "text/plain": [
       "array([ 0.94896413, -0.4975301 ,  2.48358069, -1.21124411, -0.8271744 ,\n",
       "       -2.78473756, -2.32455884,  0.9713269 ])"
      ]
     },
     "execution_count": 22,
     "metadata": {},
     "output_type": "execute_result"
    }
   ],
   "source": [
    "data[:8]"
   ]
  },
  {
   "cell_type": "markdown",
   "id": "429eb5a9",
   "metadata": {},
   "source": [
    "We sort the data "
   ]
  },
  {
   "cell_type": "code",
   "execution_count": 23,
   "id": "c015c93e",
   "metadata": {},
   "outputs": [],
   "source": [
    "x = np.sort(data)"
   ]
  },
  {
   "cell_type": "code",
   "execution_count": 24,
   "id": "08e5d297",
   "metadata": {},
   "outputs": [
    {
     "data": {
      "text/plain": [
       "array([-2.98562743, -2.97293129, -2.94614857, -2.93753911, -2.91949482,\n",
       "       -2.91619407, -2.91198251, -2.89776257])"
      ]
     },
     "execution_count": 24,
     "metadata": {},
     "output_type": "execute_result"
    }
   ],
   "source": [
    "x[:8]"
   ]
  },
  {
   "cell_type": "markdown",
   "id": "65980e96",
   "metadata": {},
   "source": [
    "We calculate then the CDF values. We calcule here $F_X(x)$ when $X$ follows a Bernoulli with parameter $p=.4$"
   ]
  },
  {
   "cell_type": "code",
   "execution_count": 25,
   "id": "ee1b82fe",
   "metadata": {},
   "outputs": [],
   "source": [
    "import scipy"
   ]
  },
  {
   "cell_type": "code",
   "execution_count": 26,
   "id": "6e6e0c2a",
   "metadata": {},
   "outputs": [],
   "source": [
    "y = scipy.stats.bernoulli.cdf(x,.4)"
   ]
  },
  {
   "cell_type": "code",
   "execution_count": 27,
   "id": "90acf92b",
   "metadata": {},
   "outputs": [],
   "source": [
    "import matplotlib.pyplot as plt"
   ]
  },
  {
   "cell_type": "code",
   "execution_count": 28,
   "id": "0e004bea",
   "metadata": {},
   "outputs": [
    {
     "data": {
      "text/plain": [
       "Text(0.5, 0, 'x')"
      ]
     },
     "execution_count": 28,
     "metadata": {},
     "output_type": "execute_result"
    },
    {
     "data": {
      "image/png": "[encoded data removed]",
      "text/plain": [
       "<Figure size 432x288 with 1 Axes>"
      ]
     },
     "metadata": {
      "needs_background": "light"
     },
     "output_type": "display_data"
    }
   ],
   "source": [
    "plt.step(x, y,'r*', where='post')\n",
    "plt.xlabel('x')"
   ]
  },
  {
   "cell_type": "markdown",
   "id": "725a088c",
   "metadata": {},
   "source": [
    "The mean of $X$, $\\mathbb{E}(X)=p$"
   ]
  },
  {
   "cell_type": "code",
   "execution_count": 29,
   "id": "3082b465",
   "metadata": {},
   "outputs": [
    {
     "data": {
      "text/plain": [
       "0.3"
      ]
     },
     "execution_count": 29,
     "metadata": {},
     "output_type": "execute_result"
    }
   ],
   "source": [
    "X.mean()"
   ]
  },
  {
   "cell_type": "markdown",
   "id": "68d19435",
   "metadata": {},
   "source": [
    "The variance of $X$, $\\mbox{Var}(X)=p(1-p)$"
   ]
  },
  {
   "cell_type": "code",
   "execution_count": 30,
   "id": "602801c2",
   "metadata": {},
   "outputs": [
    {
     "data": {
      "text/plain": [
       "0.21"
      ]
     },
     "execution_count": 30,
     "metadata": {},
     "output_type": "execute_result"
    }
   ],
   "source": [
    "X.var()"
   ]
  },
  {
   "cell_type": "markdown",
   "id": "568925ba",
   "metadata": {},
   "source": [
    "We also can generate random numbers according to the Bernoulli distribution"
   ]
  },
  {
   "cell_type": "code",
   "execution_count": 31,
   "id": "18b423aa",
   "metadata": {},
   "outputs": [
    {
     "data": {
      "text/plain": [
       "0"
      ]
     },
     "execution_count": 31,
     "metadata": {},
     "output_type": "execute_result"
    }
   ],
   "source": [
    "X.rvs()"
   ]
  },
  {
   "cell_type": "code",
   "execution_count": 32,
   "id": "e1ba4569",
   "metadata": {},
   "outputs": [
    {
     "data": {
      "text/plain": [
       "array([0, 1, 0, 0, 1, 0, 0, 0, 0, 0, 0, 1, 0, 1, 0, 1, 1, 0, 0, 0])"
      ]
     },
     "execution_count": 32,
     "metadata": {},
     "output_type": "execute_result"
    }
   ],
   "source": [
    "X.rvs(20)"
   ]
  },
  {
   "cell_type": "code",
   "execution_count": 33,
   "id": "27b7a137",
   "metadata": {},
   "outputs": [],
   "source": [
    "z=X.rvs(100)"
   ]
  },
  {
   "cell_type": "code",
   "execution_count": 34,
   "id": "5de0771d",
   "metadata": {},
   "outputs": [
    {
     "data": {
      "text/plain": [
       "0.39"
      ]
     },
     "execution_count": 34,
     "metadata": {},
     "output_type": "execute_result"
    }
   ],
   "source": [
    "z.mean()"
   ]
  },
  {
   "cell_type": "code",
   "execution_count": 35,
   "id": "c7543567",
   "metadata": {},
   "outputs": [
    {
     "data": {
      "text/plain": [
       "0.2379"
      ]
     },
     "execution_count": 35,
     "metadata": {},
     "output_type": "execute_result"
    }
   ],
   "source": [
    "z.var()"
   ]
  },
  {
   "cell_type": "markdown",
   "id": "098b644d",
   "metadata": {},
   "source": [
    "#### Poisson distribution "
   ]
  },
  {
   "cell_type": "markdown",
   "id": "9944b983",
   "metadata": {},
   "source": [
    "A random variable $X$ with Poisson distribution, with parameter $\\lambda>0$, is a discrete random variable with values in $\\mathbb{N}$, with probability function: for all $k\\in \\mathbb{N}$,\n",
    "$$p(k)=\\mathbb{P}(X=k)=e^{-\\lambda} \\displaystyle\\frac{x^k}{k!}$$"
   ]
  },
  {
   "cell_type": "markdown",
   "id": "168da19e",
   "metadata": {},
   "source": [
    "$\\mathbb{E}(X)=\\lambda$ and $\\mbox{Var}(X)=\\lambda$"
   ]
  },
  {
   "cell_type": "code",
   "execution_count": 1,
   "id": "d51b1d28",
   "metadata": {},
   "outputs": [],
   "source": [
    "from scipy import stats"
   ]
  },
  {
   "cell_type": "markdown",
   "id": "64c947ab",
   "metadata": {},
   "source": [
    "We consider $X$ a random variable with Poisson distribution $\\lambda=1.4$ "
   ]
  },
  {
   "cell_type": "code",
   "execution_count": 37,
   "id": "7cd89580",
   "metadata": {},
   "outputs": [],
   "source": [
    "X= stats.poisson(1.4)"
   ]
  },
  {
   "cell_type": "code",
   "execution_count": 38,
   "id": "06e54999",
   "metadata": {},
   "outputs": [
    {
     "data": {
      "text/plain": [
       "0.11277701150929471"
      ]
     },
     "execution_count": 38,
     "metadata": {},
     "output_type": "execute_result"
    }
   ],
   "source": [
    "X.pmf(3)"
   ]
  },
  {
   "cell_type": "code",
   "execution_count": 39,
   "id": "040e9e4d",
   "metadata": {},
   "outputs": [
    {
     "data": {
      "text/plain": [
       "0.039471954028253146"
      ]
     },
     "execution_count": 39,
     "metadata": {},
     "output_type": "execute_result"
    }
   ],
   "source": [
    "X.pmf(4)"
   ]
  },
  {
   "cell_type": "markdown",
   "id": "b071fc5e",
   "metadata": {},
   "source": [
    "Let's draw the probability function of a Poisson random variable "
   ]
  },
  {
   "cell_type": "code",
   "execution_count": 40,
   "id": "38e6ea72",
   "metadata": {},
   "outputs": [],
   "source": [
    "x=np.arange(0,20)"
   ]
  },
  {
   "cell_type": "code",
   "execution_count": 41,
   "id": "1c3d3993",
   "metadata": {},
   "outputs": [],
   "source": [
    "y = scipy.stats.poisson.pmf(x,1.4)"
   ]
  },
  {
   "cell_type": "code",
   "execution_count": 42,
   "id": "3d7701ab",
   "metadata": {},
   "outputs": [
    {
     "data": {
      "text/plain": [
       "array([2.46596964e-01, 3.45235750e-01, 2.41665025e-01, 1.12777012e-01,\n",
       "       3.94719540e-02, 1.10521471e-02, 2.57883433e-03, 5.15766866e-04,\n",
       "       9.02592015e-05, 1.40403202e-05, 1.96564483e-06, 2.50172979e-07,\n",
       "       2.91868475e-08, 3.14319896e-09, 3.14319896e-10, 2.93365237e-11,\n",
       "       2.56694582e-12, 2.11395538e-13, 1.64418752e-14, 1.21150659e-15])"
      ]
     },
     "execution_count": 42,
     "metadata": {},
     "output_type": "execute_result"
    }
   ],
   "source": [
    "y"
   ]
  },
  {
   "cell_type": "code",
   "execution_count": 43,
   "id": "9f8f52e5",
   "metadata": {},
   "outputs": [
    {
     "data": {
      "image/png": "[encoded data removed]",
      "text/plain": [
       "<Figure size 432x288 with 1 Axes>"
      ]
     },
     "metadata": {
      "needs_background": "light"
     },
     "output_type": "display_data"
    }
   ],
   "source": [
    "plt.bar(x, y)\n",
    "plt.xticks(x)\n",
    "plt.show()"
   ]
  },
  {
   "cell_type": "code",
   "execution_count": 44,
   "id": "67f206ad",
   "metadata": {},
   "outputs": [
    {
     "data": {
      "text/plain": [
       "1.4"
      ]
     },
     "execution_count": 44,
     "metadata": {},
     "output_type": "execute_result"
    }
   ],
   "source": [
    "X.mean()"
   ]
  },
  {
   "cell_type": "code",
   "execution_count": 45,
   "id": "daf882fc",
   "metadata": {},
   "outputs": [
    {
     "data": {
      "text/plain": [
       "1.4"
      ]
     },
     "execution_count": 45,
     "metadata": {},
     "output_type": "execute_result"
    }
   ],
   "source": [
    "X.var()"
   ]
  },
  {
   "cell_type": "markdown",
   "id": "b6e083c2",
   "metadata": {},
   "source": [
    "Cumulative distribution function"
   ]
  },
  {
   "cell_type": "code",
   "execution_count": 46,
   "id": "5ff09578",
   "metadata": {},
   "outputs": [
    {
     "data": {
      "text/plain": [
       "0.8334977381226298"
      ]
     },
     "execution_count": 46,
     "metadata": {},
     "output_type": "execute_result"
    }
   ],
   "source": [
    "X.cdf(2)"
   ]
  },
  {
   "cell_type": "code",
   "execution_count": 47,
   "id": "65ff87a0",
   "metadata": {},
   "outputs": [
    {
     "data": {
      "text/plain": [
       "0.9967988507880886"
      ]
     },
     "execution_count": 47,
     "metadata": {},
     "output_type": "execute_result"
    }
   ],
   "source": [
    "X.cdf(5)"
   ]
  },
  {
   "cell_type": "markdown",
   "id": "a636b7c7",
   "metadata": {},
   "source": [
    "Let's draw the CDF then "
   ]
  },
  {
   "cell_type": "code",
   "execution_count": 48,
   "id": "58daf3d5",
   "metadata": {},
   "outputs": [],
   "source": [
    "data = np.random.random(1000)"
   ]
  },
  {
   "cell_type": "code",
   "execution_count": 49,
   "id": "f4388db7",
   "metadata": {},
   "outputs": [],
   "source": [
    "data=7*data"
   ]
  },
  {
   "cell_type": "code",
   "execution_count": 50,
   "id": "15a88f44",
   "metadata": {},
   "outputs": [],
   "source": [
    "x=np.sort(data)"
   ]
  },
  {
   "cell_type": "code",
   "execution_count": 51,
   "id": "271532aa",
   "metadata": {},
   "outputs": [],
   "source": [
    "y = scipy.stats.poisson.cdf(x,1.4)"
   ]
  },
  {
   "cell_type": "code",
   "execution_count": 52,
   "id": "e640d20d",
   "metadata": {},
   "outputs": [
    {
     "data": {
      "text/plain": [
       "Text(0.5, 0, 'x')"
      ]
     },
     "execution_count": 52,
     "metadata": {},
     "output_type": "execute_result"
    },
    {
     "data": {
      "image/png": "[encoded data removed]",
      "text/plain": [
       "<Figure size 432x288 with 1 Axes>"
      ]
     },
     "metadata": {
      "needs_background": "light"
     },
     "output_type": "display_data"
    }
   ],
   "source": [
    "plt.step(x, y,'r*', where='post')\n",
    "plt.xlabel('x')"
   ]
  },
  {
   "cell_type": "markdown",
   "id": "05391365",
   "metadata": {},
   "source": [
    "Generate Poisson random numbers "
   ]
  },
  {
   "cell_type": "code",
   "execution_count": 53,
   "id": "8983ab91",
   "metadata": {},
   "outputs": [
    {
     "data": {
      "text/plain": [
       "0"
      ]
     },
     "execution_count": 53,
     "metadata": {},
     "output_type": "execute_result"
    }
   ],
   "source": [
    "X.rvs()"
   ]
  },
  {
   "cell_type": "code",
   "execution_count": 54,
   "id": "ef843ea6",
   "metadata": {},
   "outputs": [
    {
     "data": {
      "text/plain": [
       "array([2, 3, 1, 2, 4, 2, 2, 2, 2, 0, 1, 3, 0, 0, 1, 1, 1, 2, 1, 2])"
      ]
     },
     "execution_count": 54,
     "metadata": {},
     "output_type": "execute_result"
    }
   ],
   "source": [
    "X.rvs(20)"
   ]
  },
  {
   "cell_type": "code",
   "execution_count": 55,
   "id": "ad0ea0ff",
   "metadata": {},
   "outputs": [],
   "source": [
    "z=X.rvs(100)"
   ]
  },
  {
   "cell_type": "code",
   "execution_count": 56,
   "id": "80ef8a5c",
   "metadata": {},
   "outputs": [
    {
     "data": {
      "text/plain": [
       "1.33"
      ]
     },
     "execution_count": 56,
     "metadata": {},
     "output_type": "execute_result"
    }
   ],
   "source": [
    "z.mean()"
   ]
  },
  {
   "cell_type": "code",
   "execution_count": 57,
   "id": "0a31bb9b",
   "metadata": {},
   "outputs": [
    {
     "data": {
      "text/plain": [
       "1.2611000000000003"
      ]
     },
     "execution_count": 57,
     "metadata": {},
     "output_type": "execute_result"
    }
   ],
   "source": [
    "z.var()"
   ]
  },
  {
   "cell_type": "markdown",
   "id": "58a10b9e",
   "metadata": {},
   "source": [
    "Let's estimate the probability of $\\mathbb{P}(X<3)$ and compare it with the theorical value. We will call an **empirical estimation** of $\\mathbb{P}(X<3)$"
   ]
  },
  {
   "cell_type": "code",
   "execution_count": 58,
   "id": "385c9857",
   "metadata": {},
   "outputs": [
    {
     "data": {
      "text/plain": [
       "array([ True,  True,  True, False, False, False,  True,  True,  True,\n",
       "        True, False, False,  True,  True,  True, False, False,  True,\n",
       "       False,  True, False,  True,  True,  True,  True,  True,  True,\n",
       "        True,  True,  True,  True,  True,  True,  True,  True,  True,\n",
       "        True,  True,  True,  True,  True,  True,  True,  True,  True,\n",
       "        True, False,  True,  True,  True,  True,  True,  True,  True,\n",
       "        True,  True,  True, False,  True,  True, False,  True,  True,\n",
       "        True,  True,  True,  True,  True,  True, False, False,  True,\n",
       "       False,  True,  True,  True,  True,  True,  True,  True,  True,\n",
       "        True,  True, False, False,  True,  True,  True,  True,  True,\n",
       "        True,  True,  True,  True,  True,  True,  True,  True,  True,\n",
       "        True])"
      ]
     },
     "execution_count": 58,
     "metadata": {},
     "output_type": "execute_result"
    }
   ],
   "source": [
    "z<3"
   ]
  },
  {
   "cell_type": "code",
   "execution_count": 59,
   "id": "4d31df6d",
   "metadata": {},
   "outputs": [],
   "source": [
    "zz=z<3"
   ]
  },
  {
   "cell_type": "code",
   "execution_count": 60,
   "id": "e22a7b20",
   "metadata": {},
   "outputs": [
    {
     "data": {
      "text/plain": [
       "83"
      ]
     },
     "execution_count": 60,
     "metadata": {},
     "output_type": "execute_result"
    }
   ],
   "source": [
    "zz.sum()"
   ]
  },
  {
   "cell_type": "code",
   "execution_count": 61,
   "id": "c3c43ea5",
   "metadata": {},
   "outputs": [],
   "source": [
    "phat=zz.sum()/len(zz)"
   ]
  },
  {
   "cell_type": "code",
   "execution_count": 62,
   "id": "1e313270",
   "metadata": {},
   "outputs": [
    {
     "data": {
      "text/plain": [
       "0.83"
      ]
     },
     "execution_count": 62,
     "metadata": {},
     "output_type": "execute_result"
    }
   ],
   "source": [
    "phat"
   ]
  },
  {
   "cell_type": "markdown",
   "id": "bf3ba944",
   "metadata": {},
   "source": [
    "The theorical value is "
   ]
  },
  {
   "cell_type": "code",
   "execution_count": 63,
   "id": "b395025e",
   "metadata": {},
   "outputs": [
    {
     "data": {
      "text/plain": [
       "0.8334977381226298"
      ]
     },
     "execution_count": 63,
     "metadata": {},
     "output_type": "execute_result"
    }
   ],
   "source": [
    "X.cdf(2.999)"
   ]
  },
  {
   "cell_type": "markdown",
   "id": "95d1d604",
   "metadata": {},
   "source": [
    "We will show now that we can estimate with a good accuracy the theoritical probability with the empirical estimation by increasing the number of generations"
   ]
  },
  {
   "cell_type": "code",
   "execution_count": 64,
   "id": "f6b67328",
   "metadata": {},
   "outputs": [],
   "source": [
    "x=np.arange(1,1001)"
   ]
  },
  {
   "cell_type": "code",
   "execution_count": 65,
   "id": "59a7645e",
   "metadata": {},
   "outputs": [],
   "source": [
    "z=X.rvs(1000)"
   ]
  },
  {
   "cell_type": "code",
   "execution_count": 66,
   "id": "2b90105d",
   "metadata": {},
   "outputs": [],
   "source": [
    "zz=z<3"
   ]
  },
  {
   "cell_type": "code",
   "execution_count": 67,
   "id": "a6a0025f",
   "metadata": {},
   "outputs": [],
   "source": [
    "phat=zz.cumsum()/x"
   ]
  },
  {
   "cell_type": "code",
   "execution_count": 68,
   "id": "fa96adcf",
   "metadata": {},
   "outputs": [
    {
     "data": {
      "text/plain": [
       "Text(0.5, 0, 'Number of generations')"
      ]
     },
     "execution_count": 68,
     "metadata": {},
     "output_type": "execute_result"
    },
    {
     "data": {
      "image/png": "[encoded data removed]",
      "text/plain": [
       "<Figure size 432x288 with 1 Axes>"
      ]
     },
     "metadata": {
      "needs_background": "light"
     },
     "output_type": "display_data"
    }
   ],
   "source": [
    "plt.plot(x, phat)\n",
    "plt.axhline(y=X.cdf(2.999),color='red', linestyle='--')\n",
    "plt.xlabel('Number of generations')"
   ]
  },
  {
   "cell_type": "markdown",
   "id": "9a69e671",
   "metadata": {},
   "source": [
    "#### Exercise "
   ]
  },
  {
   "cell_type": "markdown",
   "id": "641ddc96",
   "metadata": {},
   "source": [
    "The following table provides the Python commands corresponding to each discrete probability distributions\n",
    "\\begin{center}\n",
    "\\begin{tabular}{lll}\n",
    "  & & x \\\\\n",
    "\\end{tabular}\n",
    "\\end{center}"
   ]
  },
  {
   "cell_type": "code",
   "execution_count": null,
   "id": "25a3af84",
   "metadata": {},
   "outputs": [],
   "source": [
    "stats.hypergeom"
   ]
  }
 ],
 "metadata": {
  "kernelspec": {
   "display_name": "Python 3 (ipykernel)",
   "language": "python",
   "name": "python3"
  },
  "language_info": {
   "codemirror_mode": {
    "name": "ipython",
    "version": 3
   },
   "file_extension": ".py",
   "mimetype": "text/x-python",
   "name": "python",
   "nbconvert_exporter": "python",
   "pygments_lexer": "ipython3",
   "version": "3.9.7"
  }
 },
 "nbformat": 4,
 "nbformat_minor": 5
}
