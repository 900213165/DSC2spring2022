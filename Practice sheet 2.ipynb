{
 "cells": [
  {
   "cell_type": "markdown",
   "id": "ef63f41b",
   "metadata": {},
   "source": [
    "# Practice Sheet: Probability distributions/Confidence Intervals"
   ]
  },
  {
   "cell_type": "markdown",
   "id": "5109de5f",
   "metadata": {},
   "source": [
    "## Exercice 1"
   ]
  },
  {
   "cell_type": "markdown",
   "id": "0d79ea73",
   "metadata": {},
   "source": [
    "A random variable $X$ is with Binomial distribution with parameters $n\\in \\mathbb{N}^*$ (size) and $p\\in [0,1]$ (probability) if the outcomes of $X$ are in the set $\\{1,2,\\ldots,n\\}$ and for any $i\\in \\{1,2,\\ldots,n\\}$:\n",
    "\n",
    "$$\\mathbb{P}(X=1)=\\displaystyle {n \\choose k} p^k (1-p)^{n-k}=\\displaystyle\\frac{n!}{k!(n-k)!}p^k (1-p)^{n-k}$$"
   ]
  },
  {
   "cell_type": "markdown",
   "id": "310ecbbf",
   "metadata": {},
   "source": [
    "For example, we flip a coin $n=10$ times, and $X$ can be the number of Head outcomes. If $p$ is the probability of observing Head, then $1-p$ is observing a Tail, $X$ is a random variable with Binomial distribution with parameter size $n=10$, and probability $p$. "
   ]
  },
  {
   "cell_type": "markdown",
   "id": "ca483c69",
   "metadata": {},
   "source": [
    " `stats.binom()`, from `scipy` library, is the Python command that can define a Binomial random variable. It has two arguments: the size $n$ and the probability $p$. For example,  `stats.binom(10,.4)` means that we have defined a Binomial random variable with $n=10$ and $p=.4$.  "
   ]
  },
  {
   "cell_type": "markdown",
   "id": "6e962136",
   "metadata": {},
   "source": [
    "Let's consider the following Python code "
   ]
  },
  {
   "cell_type": "code",
   "execution_count": 1,
   "id": "c33b23db",
   "metadata": {},
   "outputs": [],
   "source": [
    "import numpy as np"
   ]
  },
  {
   "cell_type": "code",
   "execution_count": 2,
   "id": "a78fa1c1",
   "metadata": {},
   "outputs": [],
   "source": [
    "from scipy import stats"
   ]
  },
  {
   "cell_type": "code",
   "execution_count": 12,
   "id": "5053c512",
   "metadata": {},
   "outputs": [],
   "source": [
    "X= stats.binom(15,.6)"
   ]
  },
  {
   "cell_type": "code",
   "execution_count": 13,
   "id": "61df4632",
   "metadata": {},
   "outputs": [
    {
     "data": {
      "text/plain": [
       "1.073741824000001e-06"
      ]
     },
     "execution_count": 13,
     "metadata": {},
     "output_type": "execute_result"
    }
   ],
   "source": [
    "(.4)**15"
   ]
  },
  {
   "cell_type": "code",
   "execution_count": 15,
   "id": "14c00284",
   "metadata": {},
   "outputs": [
    {
     "data": {
      "text/plain": [
       "0.00025367150592000057"
      ]
     },
     "execution_count": 15,
     "metadata": {},
     "output_type": "execute_result"
    }
   ],
   "source": [
    "X.pmf(2)"
   ]
  },
  {
   "cell_type": "code",
   "execution_count": 16,
   "id": "6114f4d7",
   "metadata": {},
   "outputs": [
    {
     "data": {
      "text/plain": [
       "0.06121410527231985"
      ]
     },
     "execution_count": 16,
     "metadata": {},
     "output_type": "execute_result"
    }
   ],
   "source": [
    "X.pmf(6)"
   ]
  },
  {
   "cell_type": "code",
   "execution_count": 17,
   "id": "c86d14c1",
   "metadata": {},
   "outputs": [
    {
     "data": {
      "text/plain": [
       "2.415919104000003e-05"
      ]
     },
     "execution_count": 17,
     "metadata": {},
     "output_type": "execute_result"
    }
   ],
   "source": [
    "X.pmf(1)"
   ]
  },
  {
   "cell_type": "code",
   "execution_count": 18,
   "id": "5074a0b4",
   "metadata": {},
   "outputs": [
    {
     "data": {
      "text/plain": [
       "0.0016488647884800034"
      ]
     },
     "execution_count": 18,
     "metadata": {},
     "output_type": "execute_result"
    }
   ],
   "source": [
    "X.pmf(3)"
   ]
  },
  {
   "cell_type": "code",
   "execution_count": 19,
   "id": "d6e30b0c",
   "metadata": {},
   "outputs": [
    {
     "data": {
      "text/plain": [
       "0.03383330288435202"
      ]
     },
     "execution_count": 19,
     "metadata": {},
     "output_type": "execute_result"
    }
   ],
   "source": [
    "X.cdf(5)"
   ]
  },
  {
   "cell_type": "markdown",
   "id": "d2853872",
   "metadata": {},
   "source": [
    "1. Compute the following probabilities by using the previous code:\n",
    "\n",
    "     1. $\\mathbb{P}(X\\leq 2)$?\n",
    "     2. $\\mathbb{P}(X>6)$?\n",
    "     3. $\\mathbb{P}(X=4)$?\n",
    "\n",
    "2. A multiple-choice test has 15 questions, each of which has five choices. An unprepared student taking the test answers each of the questions completely randomly by choosing an arbitrary answer from the five provided. Suppose X denotes the number of answers that the student gets right. Compute using a Python code the following probabilities:  \n",
    "  1. All the students' answers are wrong.\n",
    "  2. All the students' answers are correct.\n",
    "  3. At least the student answers correctly to 7 questions. "
   ]
  },
  {
   "cell_type": "code",
   "execution_count": null,
   "id": "2aee2894",
   "metadata": {},
   "outputs": [],
   "source": []
  }
 ],
 "metadata": {
  "kernelspec": {
   "display_name": "Python 3 (ipykernel)",
   "language": "python",
   "name": "python3"
  },
  "language_info": {
   "codemirror_mode": {
    "name": "ipython",
    "version": 3
   },
   "file_extension": ".py",
   "mimetype": "text/x-python",
   "name": "python",
   "nbconvert_exporter": "python",
   "pygments_lexer": "ipython3",
   "version": "3.9.7"
  }
 },
 "nbformat": 4,
 "nbformat_minor": 5
}
